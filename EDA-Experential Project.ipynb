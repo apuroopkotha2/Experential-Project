{
 "cells": [
  {
   "cell_type": "code",
   "execution_count": 2,
   "id": "d5a197bc",
   "metadata": {},
   "outputs": [],
   "source": [
    "import os\n",
    "import re\n",
    "import gc\n",
    "import warnings\n",
    "import numpy as np\n",
    "import pandas as pd\n",
    "import collections\n",
    "warnings.filterwarnings(\"ignore\")\n",
    "from datetime import date \n",
    "\n",
    "#set max display in notebook\n",
    "pd.set_option('display.max_rows', 500)\n",
    "pd.set_option('display.max_columns', 500)\n",
    "pd.set_option('display.width', 1000)\n",
    "\n",
    "#Show multiple output in console\n",
    "from IPython.core.interactiveshell import InteractiveShell\n",
    "InteractiveShell.ast_node_interactivity = 'all'"
   ]
  },
  {
   "cell_type": "code",
   "execution_count": 3,
   "id": "8b0f7498",
   "metadata": {},
   "outputs": [
    {
     "data": {
      "text/html": [
       "<div>\n",
       "<style scoped>\n",
       "    .dataframe tbody tr th:only-of-type {\n",
       "        vertical-align: middle;\n",
       "    }\n",
       "\n",
       "    .dataframe tbody tr th {\n",
       "        vertical-align: top;\n",
       "    }\n",
       "\n",
       "    .dataframe thead th {\n",
       "        text-align: right;\n",
       "    }\n",
       "</style>\n",
       "<table border=\"1\" class=\"dataframe\">\n",
       "  <thead>\n",
       "    <tr style=\"text-align: right;\">\n",
       "      <th></th>\n",
       "      <th>Time Stamp</th>\n",
       "      <th>Code</th>\n",
       "      <th>Event ID</th>\n",
       "      <th>Message Code</th>\n",
       "      <th>Event ID.1</th>\n",
       "      <th>Event Time</th>\n",
       "      <th>Ingest Time</th>\n",
       "      <th>Request ID</th>\n",
       "      <th>Source IP</th>\n",
       "      <th>HTTP Method</th>\n",
       "      <th>HTTP Url</th>\n",
       "      <th>HTTP Auth</th>\n",
       "      <th>HTTP Auth Hash</th>\n",
       "      <th>Resource</th>\n",
       "      <th>Resource Class</th>\n",
       "      <th>Resource Method</th>\n",
       "      <th>Organization</th>\n",
       "      <th>App</th>\n",
       "      <th>User</th>\n",
       "      <th>Entity</th>\n",
       "      <th>Timestamp Request</th>\n",
       "      <th>Timestamp Response</th>\n",
       "    </tr>\n",
       "  </thead>\n",
       "  <tbody>\n",
       "    <tr>\n",
       "      <th>0</th>\n",
       "      <td>2022-12-25 03:24:57</td>\n",
       "      <td>DDV1_HTTP</td>\n",
       "      <td>10G1PX4TZ8L6UP4A89Z92RM5N</td>\n",
       "      <td>DDV1_HTTP</td>\n",
       "      <td>10G1PX4TZ8L6UP4A89Z92RM5N</td>\n",
       "      <td>2022-12-25T03:24:52.199611</td>\n",
       "      <td>2022-12-25T03:24:57.3103325Z</td>\n",
       "      <td>10G1PX4TZ8L6UP4A89Z92RM5N</td>\n",
       "      <td>62.48.164.170</td>\n",
       "      <td>GET</td>\n",
       "      <td>https://api.docdigitizer.com/api/v1/tasks/a1ca...</td>\n",
       "      <td>API_KEY 6b50</td>\n",
       "      <td>5191d6faa9b002d0e2d3286627958342</td>\n",
       "      <td>TaskResource.get</td>\n",
       "      <td>TaskResource.get</td>\n",
       "      <td>TaskResource.get</td>\n",
       "      <td>lara.andrade-org</td>\n",
       "      <td>lara.andrade-org_app</td>\n",
       "      <td>NaN</td>\n",
       "      <td>lara.andrade-org_app</td>\n",
       "      <td>2022-12-25 03:24:52.197591</td>\n",
       "      <td>2022-12-25 03:24:52.199611</td>\n",
       "    </tr>\n",
       "    <tr>\n",
       "      <th>1</th>\n",
       "      <td>2022-12-25 03:24:57</td>\n",
       "      <td>DDV1_HTTP</td>\n",
       "      <td>1T8LKV94BYTDO1VIY4VHJXW9MO</td>\n",
       "      <td>DDV1_HTTP</td>\n",
       "      <td>1T8LKV94BYTDO1VIY4VHJXW9MO</td>\n",
       "      <td>2022-12-25T03:24:51.819338</td>\n",
       "      <td>2022-12-25T03:24:57.4229937Z</td>\n",
       "      <td>1T8LKV94BYTDO1VIY4VHJXW9MO</td>\n",
       "      <td>62.48.164.170</td>\n",
       "      <td>GET</td>\n",
       "      <td>https://api.docdigitizer.com/api/v1/tasks/ac59...</td>\n",
       "      <td>API_KEY 6b50</td>\n",
       "      <td>5191d6faa9b002d0e2d3286627958342</td>\n",
       "      <td>TaskResource.get</td>\n",
       "      <td>TaskResource.get</td>\n",
       "      <td>TaskResource.get</td>\n",
       "      <td>lara.andrade-org</td>\n",
       "      <td>lara.andrade-org_app</td>\n",
       "      <td>NaN</td>\n",
       "      <td>lara.andrade-org_app</td>\n",
       "      <td>2022-12-25 03:24:51.817850</td>\n",
       "      <td>2022-12-25 03:24:51.819338</td>\n",
       "    </tr>\n",
       "    <tr>\n",
       "      <th>2</th>\n",
       "      <td>2022-12-25 03:24:57</td>\n",
       "      <td>DDV1_HTTP</td>\n",
       "      <td>16GMONO2UVTCT5UXDHC2GKWQX</td>\n",
       "      <td>DDV1_HTTP</td>\n",
       "      <td>16GMONO2UVTCT5UXDHC2GKWQX</td>\n",
       "      <td>2022-12-25T03:24:52.046172</td>\n",
       "      <td>2022-12-25T03:24:57.4229959Z</td>\n",
       "      <td>16GMONO2UVTCT5UXDHC2GKWQX</td>\n",
       "      <td>62.48.164.170</td>\n",
       "      <td>GET</td>\n",
       "      <td>https://api.docdigitizer.com/api/v1/tasks/37df...</td>\n",
       "      <td>API_KEY 6b50</td>\n",
       "      <td>5191d6faa9b002d0e2d3286627958342</td>\n",
       "      <td>TaskResource.get</td>\n",
       "      <td>TaskResource.get</td>\n",
       "      <td>TaskResource.get</td>\n",
       "      <td>lara.andrade-org</td>\n",
       "      <td>lara.andrade-org_app</td>\n",
       "      <td>NaN</td>\n",
       "      <td>lara.andrade-org_app</td>\n",
       "      <td>2022-12-25 03:24:52.044870</td>\n",
       "      <td>2022-12-25 03:24:52.046172</td>\n",
       "    </tr>\n",
       "    <tr>\n",
       "      <th>3</th>\n",
       "      <td>2022-12-25 03:24:57</td>\n",
       "      <td>DDV1_HTTP</td>\n",
       "      <td>RC1WECTQISB33SSRC3NVJDX1</td>\n",
       "      <td>DDV1_HTTP</td>\n",
       "      <td>RC1WECTQISB33SSRC3NVJDX1</td>\n",
       "      <td>2022-12-25T03:24:52.309994</td>\n",
       "      <td>2022-12-25T03:24:57.4229963Z</td>\n",
       "      <td>RC1WECTQISB33SSRC3NVJDX1</td>\n",
       "      <td>62.48.164.170</td>\n",
       "      <td>GET</td>\n",
       "      <td>https://api.docdigitizer.com/api/v1/tasks/4da0...</td>\n",
       "      <td>API_KEY 6b50</td>\n",
       "      <td>5191d6faa9b002d0e2d3286627958342</td>\n",
       "      <td>TaskResource.get</td>\n",
       "      <td>TaskResource.get</td>\n",
       "      <td>TaskResource.get</td>\n",
       "      <td>lara.andrade-org</td>\n",
       "      <td>lara.andrade-org_app</td>\n",
       "      <td>NaN</td>\n",
       "      <td>lara.andrade-org_app</td>\n",
       "      <td>2022-12-25 03:24:52.308694</td>\n",
       "      <td>2022-12-25 03:24:52.309994</td>\n",
       "    </tr>\n",
       "    <tr>\n",
       "      <th>4</th>\n",
       "      <td>2022-12-25 03:24:57</td>\n",
       "      <td>DDV1_HTTP</td>\n",
       "      <td>17X6VN1GN46IYTSPUY1H9P6TX</td>\n",
       "      <td>DDV1_HTTP</td>\n",
       "      <td>17X6VN1GN46IYTSPUY1H9P6TX</td>\n",
       "      <td>2022-12-25T03:24:51.791491</td>\n",
       "      <td>2022-12-25T03:24:57.6719103Z</td>\n",
       "      <td>17X6VN1GN46IYTSPUY1H9P6TX</td>\n",
       "      <td>NaN</td>\n",
       "      <td>GET</td>\n",
       "      <td>https://10.154.0.21/liveness_check</td>\n",
       "      <td>NaN</td>\n",
       "      <td>NaN</td>\n",
       "      <td>NaN</td>\n",
       "      <td>NaN</td>\n",
       "      <td>NaN</td>\n",
       "      <td>NaN</td>\n",
       "      <td>NaN</td>\n",
       "      <td>NaN</td>\n",
       "      <td>NaN</td>\n",
       "      <td>2022-12-25 03:24:51.790677</td>\n",
       "      <td>2022-12-25 03:24:51.791491</td>\n",
       "    </tr>\n",
       "  </tbody>\n",
       "</table>\n",
       "</div>"
      ],
      "text/plain": [
       "            Time Stamp       Code                    Event ID Message Code                  Event ID.1                  Event Time                   Ingest Time                  Request ID      Source IP HTTP Method                                           HTTP Url     HTTP Auth                    HTTP Auth Hash          Resource    Resource Class   Resource Method      Organization                   App User                Entity           Timestamp Request          Timestamp Response\n",
       "0  2022-12-25 03:24:57  DDV1_HTTP   10G1PX4TZ8L6UP4A89Z92RM5N    DDV1_HTTP   10G1PX4TZ8L6UP4A89Z92RM5N  2022-12-25T03:24:52.199611  2022-12-25T03:24:57.3103325Z   10G1PX4TZ8L6UP4A89Z92RM5N  62.48.164.170         GET  https://api.docdigitizer.com/api/v1/tasks/a1ca...  API_KEY 6b50  5191d6faa9b002d0e2d3286627958342  TaskResource.get  TaskResource.get  TaskResource.get  lara.andrade-org  lara.andrade-org_app  NaN  lara.andrade-org_app  2022-12-25 03:24:52.197591  2022-12-25 03:24:52.199611\n",
       "1  2022-12-25 03:24:57  DDV1_HTTP  1T8LKV94BYTDO1VIY4VHJXW9MO    DDV1_HTTP  1T8LKV94BYTDO1VIY4VHJXW9MO  2022-12-25T03:24:51.819338  2022-12-25T03:24:57.4229937Z  1T8LKV94BYTDO1VIY4VHJXW9MO  62.48.164.170         GET  https://api.docdigitizer.com/api/v1/tasks/ac59...  API_KEY 6b50  5191d6faa9b002d0e2d3286627958342  TaskResource.get  TaskResource.get  TaskResource.get  lara.andrade-org  lara.andrade-org_app  NaN  lara.andrade-org_app  2022-12-25 03:24:51.817850  2022-12-25 03:24:51.819338\n",
       "2  2022-12-25 03:24:57  DDV1_HTTP   16GMONO2UVTCT5UXDHC2GKWQX    DDV1_HTTP   16GMONO2UVTCT5UXDHC2GKWQX  2022-12-25T03:24:52.046172  2022-12-25T03:24:57.4229959Z   16GMONO2UVTCT5UXDHC2GKWQX  62.48.164.170         GET  https://api.docdigitizer.com/api/v1/tasks/37df...  API_KEY 6b50  5191d6faa9b002d0e2d3286627958342  TaskResource.get  TaskResource.get  TaskResource.get  lara.andrade-org  lara.andrade-org_app  NaN  lara.andrade-org_app  2022-12-25 03:24:52.044870  2022-12-25 03:24:52.046172\n",
       "3  2022-12-25 03:24:57  DDV1_HTTP    RC1WECTQISB33SSRC3NVJDX1    DDV1_HTTP    RC1WECTQISB33SSRC3NVJDX1  2022-12-25T03:24:52.309994  2022-12-25T03:24:57.4229963Z    RC1WECTQISB33SSRC3NVJDX1  62.48.164.170         GET  https://api.docdigitizer.com/api/v1/tasks/4da0...  API_KEY 6b50  5191d6faa9b002d0e2d3286627958342  TaskResource.get  TaskResource.get  TaskResource.get  lara.andrade-org  lara.andrade-org_app  NaN  lara.andrade-org_app  2022-12-25 03:24:52.308694  2022-12-25 03:24:52.309994\n",
       "4  2022-12-25 03:24:57  DDV1_HTTP   17X6VN1GN46IYTSPUY1H9P6TX    DDV1_HTTP   17X6VN1GN46IYTSPUY1H9P6TX  2022-12-25T03:24:51.791491  2022-12-25T03:24:57.6719103Z   17X6VN1GN46IYTSPUY1H9P6TX            NaN         GET                 https://10.154.0.21/liveness_check           NaN                               NaN               NaN               NaN               NaN               NaN                   NaN  NaN                   NaN  2022-12-25 03:24:51.790677  2022-12-25 03:24:51.791491"
      ]
     },
     "execution_count": 3,
     "metadata": {},
     "output_type": "execute_result"
    },
    {
     "data": {
      "text/plain": [
       "(19338600, 22)"
      ]
     },
     "execution_count": 3,
     "metadata": {},
     "output_type": "execute_result"
    },
    {
     "name": "stdout",
     "output_type": "stream",
     "text": [
      "<class 'pandas.core.frame.DataFrame'>\n",
      "RangeIndex: 19338600 entries, 0 to 19338599\n",
      "Data columns (total 22 columns):\n",
      " #   Column              Dtype \n",
      "---  ------              ----- \n",
      " 0   Time Stamp          object\n",
      " 1   Code                object\n",
      " 2   Event ID            object\n",
      " 3   Message Code        object\n",
      " 4   Event ID.1          object\n",
      " 5   Event Time          object\n",
      " 6   Ingest Time         object\n",
      " 7   Request ID          object\n",
      " 8   Source IP           object\n",
      " 9   HTTP Method         object\n",
      " 10  HTTP Url            object\n",
      " 11  HTTP Auth           object\n",
      " 12  HTTP Auth Hash      object\n",
      " 13  Resource            object\n",
      " 14  Resource Class      object\n",
      " 15  Resource Method     object\n",
      " 16  Organization        object\n",
      " 17  App                 object\n",
      " 18  User                object\n",
      " 19  Entity              object\n",
      " 20  Timestamp Request   object\n",
      " 21  Timestamp Response  object\n",
      "dtypes: object(22)\n",
      "memory usage: 3.2+ GB\n"
     ]
    }
   ],
   "source": [
    "# Reading the dataset \n",
    "df = pd.read_csv('/Users/kothaapuroop/Desktop/XN Project/202212.csv')\n",
    "df.head()\n",
    "df.shape\n",
    "df.info()"
   ]
  },
  {
   "cell_type": "code",
   "execution_count": 3,
   "id": "8059c7e7",
   "metadata": {},
   "outputs": [
    {
     "name": "stdout",
     "output_type": "stream",
     "text": [
      "<class 'pandas.core.frame.DataFrame'>\n",
      "RangeIndex: 19338600 entries, 0 to 19338599\n",
      "Data columns (total 22 columns):\n",
      " #   Column              Dtype              \n",
      "---  ------              -----              \n",
      " 0   Time Stamp          object             \n",
      " 1   Code                object             \n",
      " 2   Event ID            object             \n",
      " 3   Message Code        object             \n",
      " 4   Event ID.1          object             \n",
      " 5   Event Time          datetime64[ns]     \n",
      " 6   Ingest Time         datetime64[ns, UTC]\n",
      " 7   Request ID          object             \n",
      " 8   Source IP           object             \n",
      " 9   HTTP Method         object             \n",
      " 10  HTTP Url            object             \n",
      " 11  HTTP Auth           object             \n",
      " 12  HTTP Auth Hash      object             \n",
      " 13  Resource            object             \n",
      " 14  Resource Class      object             \n",
      " 15  Resource Method     object             \n",
      " 16  Organization        object             \n",
      " 17  App                 object             \n",
      " 18  User                object             \n",
      " 19  Entity              object             \n",
      " 20  Timestamp Request   object             \n",
      " 21  Timestamp Response  object             \n",
      "dtypes: datetime64[ns, UTC](1), datetime64[ns](1), object(20)\n",
      "memory usage: 3.2+ GB\n"
     ]
    },
    {
     "data": {
      "text/html": [
       "<div>\n",
       "<style scoped>\n",
       "    .dataframe tbody tr th:only-of-type {\n",
       "        vertical-align: middle;\n",
       "    }\n",
       "\n",
       "    .dataframe tbody tr th {\n",
       "        vertical-align: top;\n",
       "    }\n",
       "\n",
       "    .dataframe thead th {\n",
       "        text-align: right;\n",
       "    }\n",
       "</style>\n",
       "<table border=\"1\" class=\"dataframe\">\n",
       "  <thead>\n",
       "    <tr style=\"text-align: right;\">\n",
       "      <th></th>\n",
       "      <th>Time Stamp</th>\n",
       "      <th>Code</th>\n",
       "      <th>Event ID</th>\n",
       "      <th>Message Code</th>\n",
       "      <th>Event ID.1</th>\n",
       "      <th>Event Time</th>\n",
       "      <th>Ingest Time</th>\n",
       "      <th>Request ID</th>\n",
       "      <th>Source IP</th>\n",
       "      <th>HTTP Method</th>\n",
       "      <th>HTTP Url</th>\n",
       "      <th>HTTP Auth</th>\n",
       "      <th>HTTP Auth Hash</th>\n",
       "      <th>Resource</th>\n",
       "      <th>Resource Class</th>\n",
       "      <th>Resource Method</th>\n",
       "      <th>Organization</th>\n",
       "      <th>App</th>\n",
       "      <th>User</th>\n",
       "      <th>Entity</th>\n",
       "      <th>Timestamp Request</th>\n",
       "      <th>Timestamp Response</th>\n",
       "    </tr>\n",
       "  </thead>\n",
       "  <tbody>\n",
       "    <tr>\n",
       "      <th>0</th>\n",
       "      <td>2022-12-25 03:24:57</td>\n",
       "      <td>DDV1_HTTP</td>\n",
       "      <td>10G1PX4TZ8L6UP4A89Z92RM5N</td>\n",
       "      <td>DDV1_HTTP</td>\n",
       "      <td>10G1PX4TZ8L6UP4A89Z92RM5N</td>\n",
       "      <td>2022-12-25 03:24:52.199611</td>\n",
       "      <td>2022-12-25 03:24:57.310332500+00:00</td>\n",
       "      <td>10G1PX4TZ8L6UP4A89Z92RM5N</td>\n",
       "      <td>62.48.164.170</td>\n",
       "      <td>GET</td>\n",
       "      <td>https://api.docdigitizer.com/api/v1/tasks/a1ca...</td>\n",
       "      <td>API_KEY 6b50</td>\n",
       "      <td>5191d6faa9b002d0e2d3286627958342</td>\n",
       "      <td>TaskResource.get</td>\n",
       "      <td>TaskResource.get</td>\n",
       "      <td>TaskResource.get</td>\n",
       "      <td>lara.andrade-org</td>\n",
       "      <td>lara.andrade-org_app</td>\n",
       "      <td>NaN</td>\n",
       "      <td>lara.andrade-org_app</td>\n",
       "      <td>2022-12-25 03:24:52.197591</td>\n",
       "      <td>2022-12-25 03:24:52.199611</td>\n",
       "    </tr>\n",
       "    <tr>\n",
       "      <th>1</th>\n",
       "      <td>2022-12-25 03:24:57</td>\n",
       "      <td>DDV1_HTTP</td>\n",
       "      <td>1T8LKV94BYTDO1VIY4VHJXW9MO</td>\n",
       "      <td>DDV1_HTTP</td>\n",
       "      <td>1T8LKV94BYTDO1VIY4VHJXW9MO</td>\n",
       "      <td>2022-12-25 03:24:51.819338</td>\n",
       "      <td>2022-12-25 03:24:57.422993700+00:00</td>\n",
       "      <td>1T8LKV94BYTDO1VIY4VHJXW9MO</td>\n",
       "      <td>62.48.164.170</td>\n",
       "      <td>GET</td>\n",
       "      <td>https://api.docdigitizer.com/api/v1/tasks/ac59...</td>\n",
       "      <td>API_KEY 6b50</td>\n",
       "      <td>5191d6faa9b002d0e2d3286627958342</td>\n",
       "      <td>TaskResource.get</td>\n",
       "      <td>TaskResource.get</td>\n",
       "      <td>TaskResource.get</td>\n",
       "      <td>lara.andrade-org</td>\n",
       "      <td>lara.andrade-org_app</td>\n",
       "      <td>NaN</td>\n",
       "      <td>lara.andrade-org_app</td>\n",
       "      <td>2022-12-25 03:24:51.817850</td>\n",
       "      <td>2022-12-25 03:24:51.819338</td>\n",
       "    </tr>\n",
       "    <tr>\n",
       "      <th>2</th>\n",
       "      <td>2022-12-25 03:24:57</td>\n",
       "      <td>DDV1_HTTP</td>\n",
       "      <td>16GMONO2UVTCT5UXDHC2GKWQX</td>\n",
       "      <td>DDV1_HTTP</td>\n",
       "      <td>16GMONO2UVTCT5UXDHC2GKWQX</td>\n",
       "      <td>2022-12-25 03:24:52.046172</td>\n",
       "      <td>2022-12-25 03:24:57.422995900+00:00</td>\n",
       "      <td>16GMONO2UVTCT5UXDHC2GKWQX</td>\n",
       "      <td>62.48.164.170</td>\n",
       "      <td>GET</td>\n",
       "      <td>https://api.docdigitizer.com/api/v1/tasks/37df...</td>\n",
       "      <td>API_KEY 6b50</td>\n",
       "      <td>5191d6faa9b002d0e2d3286627958342</td>\n",
       "      <td>TaskResource.get</td>\n",
       "      <td>TaskResource.get</td>\n",
       "      <td>TaskResource.get</td>\n",
       "      <td>lara.andrade-org</td>\n",
       "      <td>lara.andrade-org_app</td>\n",
       "      <td>NaN</td>\n",
       "      <td>lara.andrade-org_app</td>\n",
       "      <td>2022-12-25 03:24:52.044870</td>\n",
       "      <td>2022-12-25 03:24:52.046172</td>\n",
       "    </tr>\n",
       "    <tr>\n",
       "      <th>3</th>\n",
       "      <td>2022-12-25 03:24:57</td>\n",
       "      <td>DDV1_HTTP</td>\n",
       "      <td>RC1WECTQISB33SSRC3NVJDX1</td>\n",
       "      <td>DDV1_HTTP</td>\n",
       "      <td>RC1WECTQISB33SSRC3NVJDX1</td>\n",
       "      <td>2022-12-25 03:24:52.309994</td>\n",
       "      <td>2022-12-25 03:24:57.422996300+00:00</td>\n",
       "      <td>RC1WECTQISB33SSRC3NVJDX1</td>\n",
       "      <td>62.48.164.170</td>\n",
       "      <td>GET</td>\n",
       "      <td>https://api.docdigitizer.com/api/v1/tasks/4da0...</td>\n",
       "      <td>API_KEY 6b50</td>\n",
       "      <td>5191d6faa9b002d0e2d3286627958342</td>\n",
       "      <td>TaskResource.get</td>\n",
       "      <td>TaskResource.get</td>\n",
       "      <td>TaskResource.get</td>\n",
       "      <td>lara.andrade-org</td>\n",
       "      <td>lara.andrade-org_app</td>\n",
       "      <td>NaN</td>\n",
       "      <td>lara.andrade-org_app</td>\n",
       "      <td>2022-12-25 03:24:52.308694</td>\n",
       "      <td>2022-12-25 03:24:52.309994</td>\n",
       "    </tr>\n",
       "    <tr>\n",
       "      <th>4</th>\n",
       "      <td>2022-12-25 03:24:57</td>\n",
       "      <td>DDV1_HTTP</td>\n",
       "      <td>17X6VN1GN46IYTSPUY1H9P6TX</td>\n",
       "      <td>DDV1_HTTP</td>\n",
       "      <td>17X6VN1GN46IYTSPUY1H9P6TX</td>\n",
       "      <td>2022-12-25 03:24:51.791491</td>\n",
       "      <td>2022-12-25 03:24:57.671910300+00:00</td>\n",
       "      <td>17X6VN1GN46IYTSPUY1H9P6TX</td>\n",
       "      <td>NaN</td>\n",
       "      <td>GET</td>\n",
       "      <td>https://10.154.0.21/liveness_check</td>\n",
       "      <td>NaN</td>\n",
       "      <td>NaN</td>\n",
       "      <td>NaN</td>\n",
       "      <td>NaN</td>\n",
       "      <td>NaN</td>\n",
       "      <td>NaN</td>\n",
       "      <td>NaN</td>\n",
       "      <td>NaN</td>\n",
       "      <td>NaN</td>\n",
       "      <td>2022-12-25 03:24:51.790677</td>\n",
       "      <td>2022-12-25 03:24:51.791491</td>\n",
       "    </tr>\n",
       "  </tbody>\n",
       "</table>\n",
       "</div>"
      ],
      "text/plain": [
       "            Time Stamp       Code                    Event ID Message Code                  Event ID.1                 Event Time                         Ingest Time                  Request ID      Source IP HTTP Method                                           HTTP Url     HTTP Auth                    HTTP Auth Hash          Resource    Resource Class   Resource Method      Organization                   App User                Entity           Timestamp Request          Timestamp Response\n",
       "0  2022-12-25 03:24:57  DDV1_HTTP   10G1PX4TZ8L6UP4A89Z92RM5N    DDV1_HTTP   10G1PX4TZ8L6UP4A89Z92RM5N 2022-12-25 03:24:52.199611 2022-12-25 03:24:57.310332500+00:00   10G1PX4TZ8L6UP4A89Z92RM5N  62.48.164.170         GET  https://api.docdigitizer.com/api/v1/tasks/a1ca...  API_KEY 6b50  5191d6faa9b002d0e2d3286627958342  TaskResource.get  TaskResource.get  TaskResource.get  lara.andrade-org  lara.andrade-org_app  NaN  lara.andrade-org_app  2022-12-25 03:24:52.197591  2022-12-25 03:24:52.199611\n",
       "1  2022-12-25 03:24:57  DDV1_HTTP  1T8LKV94BYTDO1VIY4VHJXW9MO    DDV1_HTTP  1T8LKV94BYTDO1VIY4VHJXW9MO 2022-12-25 03:24:51.819338 2022-12-25 03:24:57.422993700+00:00  1T8LKV94BYTDO1VIY4VHJXW9MO  62.48.164.170         GET  https://api.docdigitizer.com/api/v1/tasks/ac59...  API_KEY 6b50  5191d6faa9b002d0e2d3286627958342  TaskResource.get  TaskResource.get  TaskResource.get  lara.andrade-org  lara.andrade-org_app  NaN  lara.andrade-org_app  2022-12-25 03:24:51.817850  2022-12-25 03:24:51.819338\n",
       "2  2022-12-25 03:24:57  DDV1_HTTP   16GMONO2UVTCT5UXDHC2GKWQX    DDV1_HTTP   16GMONO2UVTCT5UXDHC2GKWQX 2022-12-25 03:24:52.046172 2022-12-25 03:24:57.422995900+00:00   16GMONO2UVTCT5UXDHC2GKWQX  62.48.164.170         GET  https://api.docdigitizer.com/api/v1/tasks/37df...  API_KEY 6b50  5191d6faa9b002d0e2d3286627958342  TaskResource.get  TaskResource.get  TaskResource.get  lara.andrade-org  lara.andrade-org_app  NaN  lara.andrade-org_app  2022-12-25 03:24:52.044870  2022-12-25 03:24:52.046172\n",
       "3  2022-12-25 03:24:57  DDV1_HTTP    RC1WECTQISB33SSRC3NVJDX1    DDV1_HTTP    RC1WECTQISB33SSRC3NVJDX1 2022-12-25 03:24:52.309994 2022-12-25 03:24:57.422996300+00:00    RC1WECTQISB33SSRC3NVJDX1  62.48.164.170         GET  https://api.docdigitizer.com/api/v1/tasks/4da0...  API_KEY 6b50  5191d6faa9b002d0e2d3286627958342  TaskResource.get  TaskResource.get  TaskResource.get  lara.andrade-org  lara.andrade-org_app  NaN  lara.andrade-org_app  2022-12-25 03:24:52.308694  2022-12-25 03:24:52.309994\n",
       "4  2022-12-25 03:24:57  DDV1_HTTP   17X6VN1GN46IYTSPUY1H9P6TX    DDV1_HTTP   17X6VN1GN46IYTSPUY1H9P6TX 2022-12-25 03:24:51.791491 2022-12-25 03:24:57.671910300+00:00   17X6VN1GN46IYTSPUY1H9P6TX            NaN         GET                 https://10.154.0.21/liveness_check           NaN                               NaN               NaN               NaN               NaN               NaN                   NaN  NaN                   NaN  2022-12-25 03:24:51.790677  2022-12-25 03:24:51.791491"
      ]
     },
     "execution_count": 3,
     "metadata": {},
     "output_type": "execute_result"
    }
   ],
   "source": [
    "df['Event Time'] = pd.to_datetime(df['Event Time'], format='%Y-%m-%d %H:%M:%S%z')\n",
    "df['Ingest Time'] = pd.to_datetime(df['Ingest Time'], format='%Y-%m-%d %H:%M:%S%z')\n",
    "\n",
    "df.info()\n",
    "df.head()"
   ]
  },
  {
   "cell_type": "code",
   "execution_count": 4,
   "id": "6aa10a57",
   "metadata": {},
   "outputs": [
    {
     "name": "stdout",
     "output_type": "stream",
     "text": [
      "<class 'pandas.core.frame.DataFrame'>\n",
      "RangeIndex: 19338600 entries, 0 to 19338599\n",
      "Data columns (total 22 columns):\n",
      " #   Column              Dtype              \n",
      "---  ------              -----              \n",
      " 0   Time Stamp          datetime64[ns]     \n",
      " 1   Code                object             \n",
      " 2   Event ID            object             \n",
      " 3   Message Code        object             \n",
      " 4   Event ID.1          object             \n",
      " 5   Event Time          datetime64[ns]     \n",
      " 6   Ingest Time         datetime64[ns, UTC]\n",
      " 7   Request ID          object             \n",
      " 8   Source IP           object             \n",
      " 9   HTTP Method         object             \n",
      " 10  HTTP Url            object             \n",
      " 11  HTTP Auth           object             \n",
      " 12  HTTP Auth Hash      object             \n",
      " 13  Resource            object             \n",
      " 14  Resource Class      object             \n",
      " 15  Resource Method     object             \n",
      " 16  Organization        object             \n",
      " 17  App                 object             \n",
      " 18  User                object             \n",
      " 19  Entity              object             \n",
      " 20  Timestamp Request   datetime64[ns]     \n",
      " 21  Timestamp Response  datetime64[ns]     \n",
      "dtypes: datetime64[ns, UTC](1), datetime64[ns](4), object(17)\n",
      "memory usage: 3.2+ GB\n"
     ]
    },
    {
     "data": {
      "text/html": [
       "<div>\n",
       "<style scoped>\n",
       "    .dataframe tbody tr th:only-of-type {\n",
       "        vertical-align: middle;\n",
       "    }\n",
       "\n",
       "    .dataframe tbody tr th {\n",
       "        vertical-align: top;\n",
       "    }\n",
       "\n",
       "    .dataframe thead th {\n",
       "        text-align: right;\n",
       "    }\n",
       "</style>\n",
       "<table border=\"1\" class=\"dataframe\">\n",
       "  <thead>\n",
       "    <tr style=\"text-align: right;\">\n",
       "      <th></th>\n",
       "      <th>Time Stamp</th>\n",
       "      <th>Code</th>\n",
       "      <th>Event ID</th>\n",
       "      <th>Message Code</th>\n",
       "      <th>Event ID.1</th>\n",
       "      <th>Event Time</th>\n",
       "      <th>Ingest Time</th>\n",
       "      <th>Request ID</th>\n",
       "      <th>Source IP</th>\n",
       "      <th>HTTP Method</th>\n",
       "      <th>HTTP Url</th>\n",
       "      <th>HTTP Auth</th>\n",
       "      <th>HTTP Auth Hash</th>\n",
       "      <th>Resource</th>\n",
       "      <th>Resource Class</th>\n",
       "      <th>Resource Method</th>\n",
       "      <th>Organization</th>\n",
       "      <th>App</th>\n",
       "      <th>User</th>\n",
       "      <th>Entity</th>\n",
       "      <th>Timestamp Request</th>\n",
       "      <th>Timestamp Response</th>\n",
       "    </tr>\n",
       "  </thead>\n",
       "  <tbody>\n",
       "    <tr>\n",
       "      <th>0</th>\n",
       "      <td>2022-12-25 03:24:57</td>\n",
       "      <td>DDV1_HTTP</td>\n",
       "      <td>10G1PX4TZ8L6UP4A89Z92RM5N</td>\n",
       "      <td>DDV1_HTTP</td>\n",
       "      <td>10G1PX4TZ8L6UP4A89Z92RM5N</td>\n",
       "      <td>2022-12-25 03:24:52.199611</td>\n",
       "      <td>2022-12-25 03:24:57.310332500+00:00</td>\n",
       "      <td>10G1PX4TZ8L6UP4A89Z92RM5N</td>\n",
       "      <td>62.48.164.170</td>\n",
       "      <td>GET</td>\n",
       "      <td>https://api.docdigitizer.com/api/v1/tasks/a1ca...</td>\n",
       "      <td>API_KEY 6b50</td>\n",
       "      <td>5191d6faa9b002d0e2d3286627958342</td>\n",
       "      <td>TaskResource.get</td>\n",
       "      <td>TaskResource.get</td>\n",
       "      <td>TaskResource.get</td>\n",
       "      <td>lara.andrade-org</td>\n",
       "      <td>lara.andrade-org_app</td>\n",
       "      <td>NaN</td>\n",
       "      <td>lara.andrade-org_app</td>\n",
       "      <td>2022-12-25 03:24:52.197591</td>\n",
       "      <td>2022-12-25 03:24:52.199611</td>\n",
       "    </tr>\n",
       "    <tr>\n",
       "      <th>1</th>\n",
       "      <td>2022-12-25 03:24:57</td>\n",
       "      <td>DDV1_HTTP</td>\n",
       "      <td>1T8LKV94BYTDO1VIY4VHJXW9MO</td>\n",
       "      <td>DDV1_HTTP</td>\n",
       "      <td>1T8LKV94BYTDO1VIY4VHJXW9MO</td>\n",
       "      <td>2022-12-25 03:24:51.819338</td>\n",
       "      <td>2022-12-25 03:24:57.422993700+00:00</td>\n",
       "      <td>1T8LKV94BYTDO1VIY4VHJXW9MO</td>\n",
       "      <td>62.48.164.170</td>\n",
       "      <td>GET</td>\n",
       "      <td>https://api.docdigitizer.com/api/v1/tasks/ac59...</td>\n",
       "      <td>API_KEY 6b50</td>\n",
       "      <td>5191d6faa9b002d0e2d3286627958342</td>\n",
       "      <td>TaskResource.get</td>\n",
       "      <td>TaskResource.get</td>\n",
       "      <td>TaskResource.get</td>\n",
       "      <td>lara.andrade-org</td>\n",
       "      <td>lara.andrade-org_app</td>\n",
       "      <td>NaN</td>\n",
       "      <td>lara.andrade-org_app</td>\n",
       "      <td>2022-12-25 03:24:51.817850</td>\n",
       "      <td>2022-12-25 03:24:51.819338</td>\n",
       "    </tr>\n",
       "    <tr>\n",
       "      <th>2</th>\n",
       "      <td>2022-12-25 03:24:57</td>\n",
       "      <td>DDV1_HTTP</td>\n",
       "      <td>16GMONO2UVTCT5UXDHC2GKWQX</td>\n",
       "      <td>DDV1_HTTP</td>\n",
       "      <td>16GMONO2UVTCT5UXDHC2GKWQX</td>\n",
       "      <td>2022-12-25 03:24:52.046172</td>\n",
       "      <td>2022-12-25 03:24:57.422995900+00:00</td>\n",
       "      <td>16GMONO2UVTCT5UXDHC2GKWQX</td>\n",
       "      <td>62.48.164.170</td>\n",
       "      <td>GET</td>\n",
       "      <td>https://api.docdigitizer.com/api/v1/tasks/37df...</td>\n",
       "      <td>API_KEY 6b50</td>\n",
       "      <td>5191d6faa9b002d0e2d3286627958342</td>\n",
       "      <td>TaskResource.get</td>\n",
       "      <td>TaskResource.get</td>\n",
       "      <td>TaskResource.get</td>\n",
       "      <td>lara.andrade-org</td>\n",
       "      <td>lara.andrade-org_app</td>\n",
       "      <td>NaN</td>\n",
       "      <td>lara.andrade-org_app</td>\n",
       "      <td>2022-12-25 03:24:52.044870</td>\n",
       "      <td>2022-12-25 03:24:52.046172</td>\n",
       "    </tr>\n",
       "    <tr>\n",
       "      <th>3</th>\n",
       "      <td>2022-12-25 03:24:57</td>\n",
       "      <td>DDV1_HTTP</td>\n",
       "      <td>RC1WECTQISB33SSRC3NVJDX1</td>\n",
       "      <td>DDV1_HTTP</td>\n",
       "      <td>RC1WECTQISB33SSRC3NVJDX1</td>\n",
       "      <td>2022-12-25 03:24:52.309994</td>\n",
       "      <td>2022-12-25 03:24:57.422996300+00:00</td>\n",
       "      <td>RC1WECTQISB33SSRC3NVJDX1</td>\n",
       "      <td>62.48.164.170</td>\n",
       "      <td>GET</td>\n",
       "      <td>https://api.docdigitizer.com/api/v1/tasks/4da0...</td>\n",
       "      <td>API_KEY 6b50</td>\n",
       "      <td>5191d6faa9b002d0e2d3286627958342</td>\n",
       "      <td>TaskResource.get</td>\n",
       "      <td>TaskResource.get</td>\n",
       "      <td>TaskResource.get</td>\n",
       "      <td>lara.andrade-org</td>\n",
       "      <td>lara.andrade-org_app</td>\n",
       "      <td>NaN</td>\n",
       "      <td>lara.andrade-org_app</td>\n",
       "      <td>2022-12-25 03:24:52.308694</td>\n",
       "      <td>2022-12-25 03:24:52.309994</td>\n",
       "    </tr>\n",
       "    <tr>\n",
       "      <th>4</th>\n",
       "      <td>2022-12-25 03:24:57</td>\n",
       "      <td>DDV1_HTTP</td>\n",
       "      <td>17X6VN1GN46IYTSPUY1H9P6TX</td>\n",
       "      <td>DDV1_HTTP</td>\n",
       "      <td>17X6VN1GN46IYTSPUY1H9P6TX</td>\n",
       "      <td>2022-12-25 03:24:51.791491</td>\n",
       "      <td>2022-12-25 03:24:57.671910300+00:00</td>\n",
       "      <td>17X6VN1GN46IYTSPUY1H9P6TX</td>\n",
       "      <td>NaN</td>\n",
       "      <td>GET</td>\n",
       "      <td>https://10.154.0.21/liveness_check</td>\n",
       "      <td>NaN</td>\n",
       "      <td>NaN</td>\n",
       "      <td>NaN</td>\n",
       "      <td>NaN</td>\n",
       "      <td>NaN</td>\n",
       "      <td>NaN</td>\n",
       "      <td>NaN</td>\n",
       "      <td>NaN</td>\n",
       "      <td>NaN</td>\n",
       "      <td>2022-12-25 03:24:51.790677</td>\n",
       "      <td>2022-12-25 03:24:51.791491</td>\n",
       "    </tr>\n",
       "  </tbody>\n",
       "</table>\n",
       "</div>"
      ],
      "text/plain": [
       "           Time Stamp       Code                    Event ID Message Code                  Event ID.1                 Event Time                         Ingest Time                  Request ID      Source IP HTTP Method                                           HTTP Url     HTTP Auth                    HTTP Auth Hash          Resource    Resource Class   Resource Method      Organization                   App User                Entity          Timestamp Request         Timestamp Response\n",
       "0 2022-12-25 03:24:57  DDV1_HTTP   10G1PX4TZ8L6UP4A89Z92RM5N    DDV1_HTTP   10G1PX4TZ8L6UP4A89Z92RM5N 2022-12-25 03:24:52.199611 2022-12-25 03:24:57.310332500+00:00   10G1PX4TZ8L6UP4A89Z92RM5N  62.48.164.170         GET  https://api.docdigitizer.com/api/v1/tasks/a1ca...  API_KEY 6b50  5191d6faa9b002d0e2d3286627958342  TaskResource.get  TaskResource.get  TaskResource.get  lara.andrade-org  lara.andrade-org_app  NaN  lara.andrade-org_app 2022-12-25 03:24:52.197591 2022-12-25 03:24:52.199611\n",
       "1 2022-12-25 03:24:57  DDV1_HTTP  1T8LKV94BYTDO1VIY4VHJXW9MO    DDV1_HTTP  1T8LKV94BYTDO1VIY4VHJXW9MO 2022-12-25 03:24:51.819338 2022-12-25 03:24:57.422993700+00:00  1T8LKV94BYTDO1VIY4VHJXW9MO  62.48.164.170         GET  https://api.docdigitizer.com/api/v1/tasks/ac59...  API_KEY 6b50  5191d6faa9b002d0e2d3286627958342  TaskResource.get  TaskResource.get  TaskResource.get  lara.andrade-org  lara.andrade-org_app  NaN  lara.andrade-org_app 2022-12-25 03:24:51.817850 2022-12-25 03:24:51.819338\n",
       "2 2022-12-25 03:24:57  DDV1_HTTP   16GMONO2UVTCT5UXDHC2GKWQX    DDV1_HTTP   16GMONO2UVTCT5UXDHC2GKWQX 2022-12-25 03:24:52.046172 2022-12-25 03:24:57.422995900+00:00   16GMONO2UVTCT5UXDHC2GKWQX  62.48.164.170         GET  https://api.docdigitizer.com/api/v1/tasks/37df...  API_KEY 6b50  5191d6faa9b002d0e2d3286627958342  TaskResource.get  TaskResource.get  TaskResource.get  lara.andrade-org  lara.andrade-org_app  NaN  lara.andrade-org_app 2022-12-25 03:24:52.044870 2022-12-25 03:24:52.046172\n",
       "3 2022-12-25 03:24:57  DDV1_HTTP    RC1WECTQISB33SSRC3NVJDX1    DDV1_HTTP    RC1WECTQISB33SSRC3NVJDX1 2022-12-25 03:24:52.309994 2022-12-25 03:24:57.422996300+00:00    RC1WECTQISB33SSRC3NVJDX1  62.48.164.170         GET  https://api.docdigitizer.com/api/v1/tasks/4da0...  API_KEY 6b50  5191d6faa9b002d0e2d3286627958342  TaskResource.get  TaskResource.get  TaskResource.get  lara.andrade-org  lara.andrade-org_app  NaN  lara.andrade-org_app 2022-12-25 03:24:52.308694 2022-12-25 03:24:52.309994\n",
       "4 2022-12-25 03:24:57  DDV1_HTTP   17X6VN1GN46IYTSPUY1H9P6TX    DDV1_HTTP   17X6VN1GN46IYTSPUY1H9P6TX 2022-12-25 03:24:51.791491 2022-12-25 03:24:57.671910300+00:00   17X6VN1GN46IYTSPUY1H9P6TX            NaN         GET                 https://10.154.0.21/liveness_check           NaN                               NaN               NaN               NaN               NaN               NaN                   NaN  NaN                   NaN 2022-12-25 03:24:51.790677 2022-12-25 03:24:51.791491"
      ]
     },
     "execution_count": 4,
     "metadata": {},
     "output_type": "execute_result"
    }
   ],
   "source": [
    "# # Truncate microseconds from the datetime strings\n",
    "# df['Timestamp Request'] = df['Timestamp Request'].str[:-7]\n",
    "# df['Timestamp Response'] = df['Timestamp Response'].str[:-7]\n",
    "\n",
    "# Convert the dtypes of the columns\n",
    "df['Time Stamp'] = pd.to_datetime(df['Time Stamp'])\n",
    "df['Timestamp Request'] = pd.to_datetime(df['Timestamp Request'])\n",
    "df['Timestamp Response'] = pd.to_datetime(df['Timestamp Response'])\n",
    "\n",
    "df.info()\n",
    "df.head()"
   ]
  },
  {
   "cell_type": "code",
   "execution_count": 5,
   "id": "862577a1",
   "metadata": {},
   "outputs": [],
   "source": [
    "columns_to_drop = ['Code', 'Event ID.1', 'HTTP Auth', 'HTTP Auth Hash']\n",
    "df = df.drop(columns_to_drop, axis=1)"
   ]
  },
  {
   "cell_type": "code",
   "execution_count": 6,
   "id": "47bcda2d",
   "metadata": {},
   "outputs": [
    {
     "name": "stdout",
     "output_type": "stream",
     "text": [
      "<class 'pandas.core.frame.DataFrame'>\n",
      "RangeIndex: 19338600 entries, 0 to 19338599\n",
      "Data columns (total 19 columns):\n",
      " #   Column              Dtype              \n",
      "---  ------              -----              \n",
      " 0   Time Stamp          datetime64[ns]     \n",
      " 1   Event ID            object             \n",
      " 2   Message Code        object             \n",
      " 3   Event Time          datetime64[ns]     \n",
      " 4   Ingest Time         datetime64[ns, UTC]\n",
      " 5   Request ID          object             \n",
      " 6   Source IP           object             \n",
      " 7   HTTP Method         object             \n",
      " 8   HTTP Url            object             \n",
      " 9   Resource            object             \n",
      " 10  Resource Class      object             \n",
      " 11  Resource Method     object             \n",
      " 12  Organization        object             \n",
      " 13  App                 object             \n",
      " 14  User                object             \n",
      " 15  Entity              object             \n",
      " 16  Timestamp Request   datetime64[ns]     \n",
      " 17  Timestamp Response  datetime64[ns]     \n",
      " 18  Response_time       timedelta64[ns]    \n",
      "dtypes: datetime64[ns, UTC](1), datetime64[ns](4), object(13), timedelta64[ns](1)\n",
      "memory usage: 2.7+ GB\n"
     ]
    },
    {
     "data": {
      "text/html": [
       "<div>\n",
       "<style scoped>\n",
       "    .dataframe tbody tr th:only-of-type {\n",
       "        vertical-align: middle;\n",
       "    }\n",
       "\n",
       "    .dataframe tbody tr th {\n",
       "        vertical-align: top;\n",
       "    }\n",
       "\n",
       "    .dataframe thead th {\n",
       "        text-align: right;\n",
       "    }\n",
       "</style>\n",
       "<table border=\"1\" class=\"dataframe\">\n",
       "  <thead>\n",
       "    <tr style=\"text-align: right;\">\n",
       "      <th></th>\n",
       "      <th>Time Stamp</th>\n",
       "      <th>Event ID</th>\n",
       "      <th>Message Code</th>\n",
       "      <th>Event Time</th>\n",
       "      <th>Ingest Time</th>\n",
       "      <th>Request ID</th>\n",
       "      <th>Source IP</th>\n",
       "      <th>HTTP Method</th>\n",
       "      <th>HTTP Url</th>\n",
       "      <th>Resource</th>\n",
       "      <th>Resource Class</th>\n",
       "      <th>Resource Method</th>\n",
       "      <th>Organization</th>\n",
       "      <th>App</th>\n",
       "      <th>User</th>\n",
       "      <th>Entity</th>\n",
       "      <th>Timestamp Request</th>\n",
       "      <th>Timestamp Response</th>\n",
       "      <th>Response_time</th>\n",
       "    </tr>\n",
       "  </thead>\n",
       "  <tbody>\n",
       "    <tr>\n",
       "      <th>0</th>\n",
       "      <td>2022-12-25 03:24:57</td>\n",
       "      <td>10G1PX4TZ8L6UP4A89Z92RM5N</td>\n",
       "      <td>DDV1_HTTP</td>\n",
       "      <td>2022-12-25 03:24:52.199611</td>\n",
       "      <td>2022-12-25 03:24:57.310332500+00:00</td>\n",
       "      <td>10G1PX4TZ8L6UP4A89Z92RM5N</td>\n",
       "      <td>62.48.164.170</td>\n",
       "      <td>GET</td>\n",
       "      <td>https://api.docdigitizer.com/api/v1/tasks/a1ca...</td>\n",
       "      <td>TaskResource.get</td>\n",
       "      <td>TaskResource.get</td>\n",
       "      <td>TaskResource.get</td>\n",
       "      <td>lara.andrade-org</td>\n",
       "      <td>lara.andrade-org_app</td>\n",
       "      <td>NaN</td>\n",
       "      <td>lara.andrade-org_app</td>\n",
       "      <td>2022-12-25 03:24:52.197591</td>\n",
       "      <td>2022-12-25 03:24:52.199611</td>\n",
       "      <td>0 days 00:00:00.002020</td>\n",
       "    </tr>\n",
       "    <tr>\n",
       "      <th>1</th>\n",
       "      <td>2022-12-25 03:24:57</td>\n",
       "      <td>1T8LKV94BYTDO1VIY4VHJXW9MO</td>\n",
       "      <td>DDV1_HTTP</td>\n",
       "      <td>2022-12-25 03:24:51.819338</td>\n",
       "      <td>2022-12-25 03:24:57.422993700+00:00</td>\n",
       "      <td>1T8LKV94BYTDO1VIY4VHJXW9MO</td>\n",
       "      <td>62.48.164.170</td>\n",
       "      <td>GET</td>\n",
       "      <td>https://api.docdigitizer.com/api/v1/tasks/ac59...</td>\n",
       "      <td>TaskResource.get</td>\n",
       "      <td>TaskResource.get</td>\n",
       "      <td>TaskResource.get</td>\n",
       "      <td>lara.andrade-org</td>\n",
       "      <td>lara.andrade-org_app</td>\n",
       "      <td>NaN</td>\n",
       "      <td>lara.andrade-org_app</td>\n",
       "      <td>2022-12-25 03:24:51.817850</td>\n",
       "      <td>2022-12-25 03:24:51.819338</td>\n",
       "      <td>0 days 00:00:00.001488</td>\n",
       "    </tr>\n",
       "    <tr>\n",
       "      <th>2</th>\n",
       "      <td>2022-12-25 03:24:57</td>\n",
       "      <td>16GMONO2UVTCT5UXDHC2GKWQX</td>\n",
       "      <td>DDV1_HTTP</td>\n",
       "      <td>2022-12-25 03:24:52.046172</td>\n",
       "      <td>2022-12-25 03:24:57.422995900+00:00</td>\n",
       "      <td>16GMONO2UVTCT5UXDHC2GKWQX</td>\n",
       "      <td>62.48.164.170</td>\n",
       "      <td>GET</td>\n",
       "      <td>https://api.docdigitizer.com/api/v1/tasks/37df...</td>\n",
       "      <td>TaskResource.get</td>\n",
       "      <td>TaskResource.get</td>\n",
       "      <td>TaskResource.get</td>\n",
       "      <td>lara.andrade-org</td>\n",
       "      <td>lara.andrade-org_app</td>\n",
       "      <td>NaN</td>\n",
       "      <td>lara.andrade-org_app</td>\n",
       "      <td>2022-12-25 03:24:52.044870</td>\n",
       "      <td>2022-12-25 03:24:52.046172</td>\n",
       "      <td>0 days 00:00:00.001302</td>\n",
       "    </tr>\n",
       "    <tr>\n",
       "      <th>3</th>\n",
       "      <td>2022-12-25 03:24:57</td>\n",
       "      <td>RC1WECTQISB33SSRC3NVJDX1</td>\n",
       "      <td>DDV1_HTTP</td>\n",
       "      <td>2022-12-25 03:24:52.309994</td>\n",
       "      <td>2022-12-25 03:24:57.422996300+00:00</td>\n",
       "      <td>RC1WECTQISB33SSRC3NVJDX1</td>\n",
       "      <td>62.48.164.170</td>\n",
       "      <td>GET</td>\n",
       "      <td>https://api.docdigitizer.com/api/v1/tasks/4da0...</td>\n",
       "      <td>TaskResource.get</td>\n",
       "      <td>TaskResource.get</td>\n",
       "      <td>TaskResource.get</td>\n",
       "      <td>lara.andrade-org</td>\n",
       "      <td>lara.andrade-org_app</td>\n",
       "      <td>NaN</td>\n",
       "      <td>lara.andrade-org_app</td>\n",
       "      <td>2022-12-25 03:24:52.308694</td>\n",
       "      <td>2022-12-25 03:24:52.309994</td>\n",
       "      <td>0 days 00:00:00.001300</td>\n",
       "    </tr>\n",
       "    <tr>\n",
       "      <th>4</th>\n",
       "      <td>2022-12-25 03:24:57</td>\n",
       "      <td>17X6VN1GN46IYTSPUY1H9P6TX</td>\n",
       "      <td>DDV1_HTTP</td>\n",
       "      <td>2022-12-25 03:24:51.791491</td>\n",
       "      <td>2022-12-25 03:24:57.671910300+00:00</td>\n",
       "      <td>17X6VN1GN46IYTSPUY1H9P6TX</td>\n",
       "      <td>NaN</td>\n",
       "      <td>GET</td>\n",
       "      <td>https://10.154.0.21/liveness_check</td>\n",
       "      <td>NaN</td>\n",
       "      <td>NaN</td>\n",
       "      <td>NaN</td>\n",
       "      <td>NaN</td>\n",
       "      <td>NaN</td>\n",
       "      <td>NaN</td>\n",
       "      <td>NaN</td>\n",
       "      <td>2022-12-25 03:24:51.790677</td>\n",
       "      <td>2022-12-25 03:24:51.791491</td>\n",
       "      <td>0 days 00:00:00.000814</td>\n",
       "    </tr>\n",
       "  </tbody>\n",
       "</table>\n",
       "</div>"
      ],
      "text/plain": [
       "           Time Stamp                    Event ID Message Code                 Event Time                         Ingest Time                  Request ID      Source IP HTTP Method                                           HTTP Url          Resource    Resource Class   Resource Method      Organization                   App User                Entity          Timestamp Request         Timestamp Response          Response_time\n",
       "0 2022-12-25 03:24:57   10G1PX4TZ8L6UP4A89Z92RM5N    DDV1_HTTP 2022-12-25 03:24:52.199611 2022-12-25 03:24:57.310332500+00:00   10G1PX4TZ8L6UP4A89Z92RM5N  62.48.164.170         GET  https://api.docdigitizer.com/api/v1/tasks/a1ca...  TaskResource.get  TaskResource.get  TaskResource.get  lara.andrade-org  lara.andrade-org_app  NaN  lara.andrade-org_app 2022-12-25 03:24:52.197591 2022-12-25 03:24:52.199611 0 days 00:00:00.002020\n",
       "1 2022-12-25 03:24:57  1T8LKV94BYTDO1VIY4VHJXW9MO    DDV1_HTTP 2022-12-25 03:24:51.819338 2022-12-25 03:24:57.422993700+00:00  1T8LKV94BYTDO1VIY4VHJXW9MO  62.48.164.170         GET  https://api.docdigitizer.com/api/v1/tasks/ac59...  TaskResource.get  TaskResource.get  TaskResource.get  lara.andrade-org  lara.andrade-org_app  NaN  lara.andrade-org_app 2022-12-25 03:24:51.817850 2022-12-25 03:24:51.819338 0 days 00:00:00.001488\n",
       "2 2022-12-25 03:24:57   16GMONO2UVTCT5UXDHC2GKWQX    DDV1_HTTP 2022-12-25 03:24:52.046172 2022-12-25 03:24:57.422995900+00:00   16GMONO2UVTCT5UXDHC2GKWQX  62.48.164.170         GET  https://api.docdigitizer.com/api/v1/tasks/37df...  TaskResource.get  TaskResource.get  TaskResource.get  lara.andrade-org  lara.andrade-org_app  NaN  lara.andrade-org_app 2022-12-25 03:24:52.044870 2022-12-25 03:24:52.046172 0 days 00:00:00.001302\n",
       "3 2022-12-25 03:24:57    RC1WECTQISB33SSRC3NVJDX1    DDV1_HTTP 2022-12-25 03:24:52.309994 2022-12-25 03:24:57.422996300+00:00    RC1WECTQISB33SSRC3NVJDX1  62.48.164.170         GET  https://api.docdigitizer.com/api/v1/tasks/4da0...  TaskResource.get  TaskResource.get  TaskResource.get  lara.andrade-org  lara.andrade-org_app  NaN  lara.andrade-org_app 2022-12-25 03:24:52.308694 2022-12-25 03:24:52.309994 0 days 00:00:00.001300\n",
       "4 2022-12-25 03:24:57   17X6VN1GN46IYTSPUY1H9P6TX    DDV1_HTTP 2022-12-25 03:24:51.791491 2022-12-25 03:24:57.671910300+00:00   17X6VN1GN46IYTSPUY1H9P6TX            NaN         GET                 https://10.154.0.21/liveness_check               NaN               NaN               NaN               NaN                   NaN  NaN                   NaN 2022-12-25 03:24:51.790677 2022-12-25 03:24:51.791491 0 days 00:00:00.000814"
      ]
     },
     "execution_count": 6,
     "metadata": {},
     "output_type": "execute_result"
    }
   ],
   "source": [
    "df['Response_time'] = df['Timestamp Response'] - df['Timestamp Request']\n",
    "df.info()\n",
    "df.head()"
   ]
  },
  {
   "cell_type": "code",
   "execution_count": 31,
   "id": "c93aa18d",
   "metadata": {},
   "outputs": [
    {
     "data": {
      "text/html": [
       "<div>\n",
       "<style scoped>\n",
       "    .dataframe tbody tr th:only-of-type {\n",
       "        vertical-align: middle;\n",
       "    }\n",
       "\n",
       "    .dataframe tbody tr th {\n",
       "        vertical-align: top;\n",
       "    }\n",
       "\n",
       "    .dataframe thead th {\n",
       "        text-align: right;\n",
       "    }\n",
       "</style>\n",
       "<table border=\"1\" class=\"dataframe\">\n",
       "  <thead>\n",
       "    <tr style=\"text-align: right;\">\n",
       "      <th></th>\n",
       "      <th>Time Stamp</th>\n",
       "      <th>Event ID</th>\n",
       "      <th>Message Code</th>\n",
       "      <th>Event Time</th>\n",
       "      <th>Ingest Time</th>\n",
       "      <th>Request ID</th>\n",
       "      <th>Source IP</th>\n",
       "      <th>HTTP Method</th>\n",
       "      <th>HTTP Url</th>\n",
       "      <th>Resource</th>\n",
       "      <th>Resource Class</th>\n",
       "      <th>Resource Method</th>\n",
       "      <th>Organization</th>\n",
       "      <th>App</th>\n",
       "      <th>User</th>\n",
       "      <th>Entity</th>\n",
       "      <th>Timestamp Request</th>\n",
       "      <th>Timestamp Response</th>\n",
       "      <th>Response_time</th>\n",
       "      <th>HourOfDay</th>\n",
       "      <th>Time Category</th>\n",
       "    </tr>\n",
       "  </thead>\n",
       "  <tbody>\n",
       "    <tr>\n",
       "      <th>0</th>\n",
       "      <td>2022-12-25 03:24:57</td>\n",
       "      <td>10G1PX4TZ8L6UP4A89Z92RM5N</td>\n",
       "      <td>DDV1_HTTP</td>\n",
       "      <td>2022-12-25 03:24:52.199611</td>\n",
       "      <td>2022-12-25 03:24:57.310332500+00:00</td>\n",
       "      <td>10G1PX4TZ8L6UP4A89Z92RM5N</td>\n",
       "      <td>62.48.164.170</td>\n",
       "      <td>GET</td>\n",
       "      <td>https://api.docdigitizer.com/api/v1/tasks/a1ca...</td>\n",
       "      <td>TaskResource.get</td>\n",
       "      <td>TaskResource.get</td>\n",
       "      <td>TaskResource.get</td>\n",
       "      <td>lara.andrade-org</td>\n",
       "      <td>lara.andrade-org_app</td>\n",
       "      <td>NaN</td>\n",
       "      <td>lara.andrade-org_app</td>\n",
       "      <td>2022-12-25 03:24:52.197591</td>\n",
       "      <td>2022-12-25 03:24:52.199611</td>\n",
       "      <td>0 days 00:00:00.002020</td>\n",
       "      <td>3</td>\n",
       "      <td>Night</td>\n",
       "    </tr>\n",
       "    <tr>\n",
       "      <th>1</th>\n",
       "      <td>2022-12-25 03:24:57</td>\n",
       "      <td>1T8LKV94BYTDO1VIY4VHJXW9MO</td>\n",
       "      <td>DDV1_HTTP</td>\n",
       "      <td>2022-12-25 03:24:51.819338</td>\n",
       "      <td>2022-12-25 03:24:57.422993700+00:00</td>\n",
       "      <td>1T8LKV94BYTDO1VIY4VHJXW9MO</td>\n",
       "      <td>62.48.164.170</td>\n",
       "      <td>GET</td>\n",
       "      <td>https://api.docdigitizer.com/api/v1/tasks/ac59...</td>\n",
       "      <td>TaskResource.get</td>\n",
       "      <td>TaskResource.get</td>\n",
       "      <td>TaskResource.get</td>\n",
       "      <td>lara.andrade-org</td>\n",
       "      <td>lara.andrade-org_app</td>\n",
       "      <td>NaN</td>\n",
       "      <td>lara.andrade-org_app</td>\n",
       "      <td>2022-12-25 03:24:51.817850</td>\n",
       "      <td>2022-12-25 03:24:51.819338</td>\n",
       "      <td>0 days 00:00:00.001488</td>\n",
       "      <td>3</td>\n",
       "      <td>Night</td>\n",
       "    </tr>\n",
       "    <tr>\n",
       "      <th>2</th>\n",
       "      <td>2022-12-25 03:24:57</td>\n",
       "      <td>16GMONO2UVTCT5UXDHC2GKWQX</td>\n",
       "      <td>DDV1_HTTP</td>\n",
       "      <td>2022-12-25 03:24:52.046172</td>\n",
       "      <td>2022-12-25 03:24:57.422995900+00:00</td>\n",
       "      <td>16GMONO2UVTCT5UXDHC2GKWQX</td>\n",
       "      <td>62.48.164.170</td>\n",
       "      <td>GET</td>\n",
       "      <td>https://api.docdigitizer.com/api/v1/tasks/37df...</td>\n",
       "      <td>TaskResource.get</td>\n",
       "      <td>TaskResource.get</td>\n",
       "      <td>TaskResource.get</td>\n",
       "      <td>lara.andrade-org</td>\n",
       "      <td>lara.andrade-org_app</td>\n",
       "      <td>NaN</td>\n",
       "      <td>lara.andrade-org_app</td>\n",
       "      <td>2022-12-25 03:24:52.044870</td>\n",
       "      <td>2022-12-25 03:24:52.046172</td>\n",
       "      <td>0 days 00:00:00.001302</td>\n",
       "      <td>3</td>\n",
       "      <td>Night</td>\n",
       "    </tr>\n",
       "    <tr>\n",
       "      <th>3</th>\n",
       "      <td>2022-12-25 03:24:57</td>\n",
       "      <td>RC1WECTQISB33SSRC3NVJDX1</td>\n",
       "      <td>DDV1_HTTP</td>\n",
       "      <td>2022-12-25 03:24:52.309994</td>\n",
       "      <td>2022-12-25 03:24:57.422996300+00:00</td>\n",
       "      <td>RC1WECTQISB33SSRC3NVJDX1</td>\n",
       "      <td>62.48.164.170</td>\n",
       "      <td>GET</td>\n",
       "      <td>https://api.docdigitizer.com/api/v1/tasks/4da0...</td>\n",
       "      <td>TaskResource.get</td>\n",
       "      <td>TaskResource.get</td>\n",
       "      <td>TaskResource.get</td>\n",
       "      <td>lara.andrade-org</td>\n",
       "      <td>lara.andrade-org_app</td>\n",
       "      <td>NaN</td>\n",
       "      <td>lara.andrade-org_app</td>\n",
       "      <td>2022-12-25 03:24:52.308694</td>\n",
       "      <td>2022-12-25 03:24:52.309994</td>\n",
       "      <td>0 days 00:00:00.001300</td>\n",
       "      <td>3</td>\n",
       "      <td>Night</td>\n",
       "    </tr>\n",
       "    <tr>\n",
       "      <th>4</th>\n",
       "      <td>2022-12-25 03:24:57</td>\n",
       "      <td>17X6VN1GN46IYTSPUY1H9P6TX</td>\n",
       "      <td>DDV1_HTTP</td>\n",
       "      <td>2022-12-25 03:24:51.791491</td>\n",
       "      <td>2022-12-25 03:24:57.671910300+00:00</td>\n",
       "      <td>17X6VN1GN46IYTSPUY1H9P6TX</td>\n",
       "      <td>NaN</td>\n",
       "      <td>GET</td>\n",
       "      <td>https://10.154.0.21/liveness_check</td>\n",
       "      <td>NaN</td>\n",
       "      <td>NaN</td>\n",
       "      <td>NaN</td>\n",
       "      <td>NaN</td>\n",
       "      <td>NaN</td>\n",
       "      <td>NaN</td>\n",
       "      <td>NaN</td>\n",
       "      <td>2022-12-25 03:24:51.790677</td>\n",
       "      <td>2022-12-25 03:24:51.791491</td>\n",
       "      <td>0 days 00:00:00.000814</td>\n",
       "      <td>3</td>\n",
       "      <td>Night</td>\n",
       "    </tr>\n",
       "  </tbody>\n",
       "</table>\n",
       "</div>"
      ],
      "text/plain": [
       "           Time Stamp                    Event ID Message Code                 Event Time                         Ingest Time                  Request ID      Source IP HTTP Method                                           HTTP Url          Resource    Resource Class   Resource Method      Organization                   App User                Entity          Timestamp Request         Timestamp Response          Response_time  HourOfDay Time Category\n",
       "0 2022-12-25 03:24:57   10G1PX4TZ8L6UP4A89Z92RM5N    DDV1_HTTP 2022-12-25 03:24:52.199611 2022-12-25 03:24:57.310332500+00:00   10G1PX4TZ8L6UP4A89Z92RM5N  62.48.164.170         GET  https://api.docdigitizer.com/api/v1/tasks/a1ca...  TaskResource.get  TaskResource.get  TaskResource.get  lara.andrade-org  lara.andrade-org_app  NaN  lara.andrade-org_app 2022-12-25 03:24:52.197591 2022-12-25 03:24:52.199611 0 days 00:00:00.002020          3         Night\n",
       "1 2022-12-25 03:24:57  1T8LKV94BYTDO1VIY4VHJXW9MO    DDV1_HTTP 2022-12-25 03:24:51.819338 2022-12-25 03:24:57.422993700+00:00  1T8LKV94BYTDO1VIY4VHJXW9MO  62.48.164.170         GET  https://api.docdigitizer.com/api/v1/tasks/ac59...  TaskResource.get  TaskResource.get  TaskResource.get  lara.andrade-org  lara.andrade-org_app  NaN  lara.andrade-org_app 2022-12-25 03:24:51.817850 2022-12-25 03:24:51.819338 0 days 00:00:00.001488          3         Night\n",
       "2 2022-12-25 03:24:57   16GMONO2UVTCT5UXDHC2GKWQX    DDV1_HTTP 2022-12-25 03:24:52.046172 2022-12-25 03:24:57.422995900+00:00   16GMONO2UVTCT5UXDHC2GKWQX  62.48.164.170         GET  https://api.docdigitizer.com/api/v1/tasks/37df...  TaskResource.get  TaskResource.get  TaskResource.get  lara.andrade-org  lara.andrade-org_app  NaN  lara.andrade-org_app 2022-12-25 03:24:52.044870 2022-12-25 03:24:52.046172 0 days 00:00:00.001302          3         Night\n",
       "3 2022-12-25 03:24:57    RC1WECTQISB33SSRC3NVJDX1    DDV1_HTTP 2022-12-25 03:24:52.309994 2022-12-25 03:24:57.422996300+00:00    RC1WECTQISB33SSRC3NVJDX1  62.48.164.170         GET  https://api.docdigitizer.com/api/v1/tasks/4da0...  TaskResource.get  TaskResource.get  TaskResource.get  lara.andrade-org  lara.andrade-org_app  NaN  lara.andrade-org_app 2022-12-25 03:24:52.308694 2022-12-25 03:24:52.309994 0 days 00:00:00.001300          3         Night\n",
       "4 2022-12-25 03:24:57   17X6VN1GN46IYTSPUY1H9P6TX    DDV1_HTTP 2022-12-25 03:24:51.791491 2022-12-25 03:24:57.671910300+00:00   17X6VN1GN46IYTSPUY1H9P6TX            NaN         GET                 https://10.154.0.21/liveness_check               NaN               NaN               NaN               NaN                   NaN  NaN                   NaN 2022-12-25 03:24:51.790677 2022-12-25 03:24:51.791491 0 days 00:00:00.000814          3         Night"
      ]
     },
     "execution_count": 31,
     "metadata": {},
     "output_type": "execute_result"
    }
   ],
   "source": [
    "# Create a function to categorize time into different time categories\n",
    "def categorize_time(timestamp):\n",
    "    hour = timestamp.hour\n",
    "    \n",
    "    if 5 <= hour < 9:\n",
    "        return 'Early Morning'\n",
    "    elif 9 <= hour < 12:\n",
    "        return 'Morning'\n",
    "    elif 12 <= hour < 18:\n",
    "        return 'Afternoon'\n",
    "    elif 18 <= hour < 21:\n",
    "        return 'Evening'\n",
    "    else:\n",
    "        return 'Night'\n",
    "\n",
    "# Apply the categorize_time function to the 'Time Stamp' column and create a new column 'Time Category'\n",
    "df['Time Category'] = df['Time Stamp'].apply(categorize_time)\n",
    "\n",
    "# Display the updated dataframe\n",
    "df.head()"
   ]
  },
  {
   "cell_type": "code",
   "execution_count": 32,
   "id": "c38625c9",
   "metadata": {},
   "outputs": [],
   "source": [
    "# Calculate summary statistics\n",
    "mean_duration = df['Response_time'].mean()\n",
    "median_duration = df['Response_time'].median()\n",
    "std_duration = df['Response_time'].std()"
   ]
  },
  {
   "cell_type": "code",
   "execution_count": 79,
   "id": "dd8b3c62",
   "metadata": {},
   "outputs": [
    {
     "data": {
      "text/plain": [
       "Timedelta('0 days 00:00:00.146569684')"
      ]
     },
     "execution_count": 79,
     "metadata": {},
     "output_type": "execute_result"
    },
    {
     "data": {
      "text/plain": [
       "Timedelta('0 days 00:00:00.096599')"
      ]
     },
     "execution_count": 79,
     "metadata": {},
     "output_type": "execute_result"
    },
    {
     "data": {
      "text/plain": [
       "Timedelta('0 days 00:00:00.588863208')"
      ]
     },
     "execution_count": 79,
     "metadata": {},
     "output_type": "execute_result"
    }
   ],
   "source": [
    "mean_duration\n",
    "median_duration\n",
    "std_duration"
   ]
  },
  {
   "cell_type": "code",
   "execution_count": 39,
   "id": "53d4666b",
   "metadata": {},
   "outputs": [
    {
     "data": {
      "text/plain": [
       "(array([1.9336319e+07, 1.8880000e+03, 2.0900000e+02, 1.0400000e+02,\n",
       "        2.9000000e+01, 2.0000000e+00, 1.0000000e+00, 1.0000000e+00,\n",
       "        3.6000000e+01, 2.0000000e+00, 2.0000000e+00, 0.0000000e+00,\n",
       "        0.0000000e+00, 0.0000000e+00, 6.0000000e+00, 0.0000000e+00,\n",
       "        0.0000000e+00, 0.0000000e+00, 0.0000000e+00, 0.0000000e+00,\n",
       "        0.0000000e+00, 0.0000000e+00, 0.0000000e+00, 0.0000000e+00,\n",
       "        0.0000000e+00, 0.0000000e+00, 0.0000000e+00, 0.0000000e+00,\n",
       "        0.0000000e+00, 1.0000000e+00]),\n",
       " array([1.55000000e-04, 1.54536684e+01, 3.09071817e+01, 4.63606951e+01,\n",
       "        6.18142085e+01, 7.72677218e+01, 9.27212352e+01, 1.08174749e+02,\n",
       "        1.23628262e+02, 1.39081775e+02, 1.54535289e+02, 1.69988802e+02,\n",
       "        1.85442315e+02, 2.00895829e+02, 2.16349342e+02, 2.31802856e+02,\n",
       "        2.47256369e+02, 2.62709882e+02, 2.78163396e+02, 2.93616909e+02,\n",
       "        3.09070422e+02, 3.24523936e+02, 3.39977449e+02, 3.55430962e+02,\n",
       "        3.70884476e+02, 3.86337989e+02, 4.01791503e+02, 4.17245016e+02,\n",
       "        4.32698529e+02, 4.48152043e+02, 4.63605556e+02]),\n",
       " <BarContainer object of 30 artists>)"
      ]
     },
     "execution_count": 39,
     "metadata": {},
     "output_type": "execute_result"
    },
    {
     "data": {
      "text/plain": [
       "Text(0.5, 0, 'Response_time (minutes)')"
      ]
     },
     "execution_count": 39,
     "metadata": {},
     "output_type": "execute_result"
    },
    {
     "data": {
      "text/plain": [
       "Text(0, 0.5, 'Frequency')"
      ]
     },
     "execution_count": 39,
     "metadata": {},
     "output_type": "execute_result"
    },
    {
     "data": {
      "text/plain": [
       "Text(0.5, 1.0, 'Distribution of Response_time')"
      ]
     },
     "execution_count": 39,
     "metadata": {},
     "output_type": "execute_result"
    },
    {
     "data": {
      "image/png": "[encoded data removed]",
      "text/plain": [
       "<Figure size 432x288 with 1 Axes>"
      ]
     },
     "metadata": {
      "needs_background": "light"
     },
     "output_type": "display_data"
    }
   ],
   "source": [
    "import matplotlib.pyplot as plt\n",
    "# Plot the distribution of durations\n",
    "plt.hist(df['Response_time'].dt.total_seconds(), bins=30)  # Convert durations to minutes for better visualization\n",
    "plt.xlabel('Response_time (minutes)')\n",
    "plt.ylabel('Frequency')\n",
    "plt.title('Distribution of Response_time')\n",
    "plt.show()"
   ]
  },
  {
   "cell_type": "code",
   "execution_count": 43,
   "id": "8cce4342",
   "metadata": {},
   "outputs": [
    {
     "data": {
      "text/plain": [
       "Timedelta('0 days 00:07:43.605556')"
      ]
     },
     "execution_count": 43,
     "metadata": {},
     "output_type": "execute_result"
    }
   ],
   "source": [
    "max(df.Response_time)"
   ]
  },
  {
   "cell_type": "code",
   "execution_count": 44,
   "id": "09b21693",
   "metadata": {},
   "outputs": [
    {
     "data": {
      "text/plain": [
       "Timedelta('0 days 00:00:00.000155')"
      ]
     },
     "execution_count": 44,
     "metadata": {},
     "output_type": "execute_result"
    }
   ],
   "source": [
    "min(df.Response_time)"
   ]
  },
  {
   "cell_type": "code",
   "execution_count": null,
   "id": "9db625b3",
   "metadata": {},
   "outputs": [],
   "source": []
  },
  {
   "cell_type": "code",
   "execution_count": 45,
   "id": "68fe2f74",
   "metadata": {},
   "outputs": [
    {
     "data": {
      "text/plain": [
       "(19338600, 5)"
      ]
     },
     "execution_count": 45,
     "metadata": {},
     "output_type": "execute_result"
    },
    {
     "data": {
      "text/html": [
       "<div>\n",
       "<style scoped>\n",
       "    .dataframe tbody tr th:only-of-type {\n",
       "        vertical-align: middle;\n",
       "    }\n",
       "\n",
       "    .dataframe tbody tr th {\n",
       "        vertical-align: top;\n",
       "    }\n",
       "\n",
       "    .dataframe thead th {\n",
       "        text-align: right;\n",
       "    }\n",
       "</style>\n",
       "<table border=\"1\" class=\"dataframe\">\n",
       "  <thead>\n",
       "    <tr style=\"text-align: right;\">\n",
       "      <th></th>\n",
       "      <th>HourOfDay</th>\n",
       "      <th>Time Category</th>\n",
       "      <th>Request ID</th>\n",
       "      <th>Organization</th>\n",
       "      <th>Event Time</th>\n",
       "    </tr>\n",
       "  </thead>\n",
       "  <tbody>\n",
       "    <tr>\n",
       "      <th>0</th>\n",
       "      <td>3</td>\n",
       "      <td>Night</td>\n",
       "      <td>10G1PX4TZ8L6UP4A89Z92RM5N</td>\n",
       "      <td>lara.andrade-org</td>\n",
       "      <td>2022-12-25 03:24:52.199611</td>\n",
       "    </tr>\n",
       "    <tr>\n",
       "      <th>1</th>\n",
       "      <td>3</td>\n",
       "      <td>Night</td>\n",
       "      <td>1T8LKV94BYTDO1VIY4VHJXW9MO</td>\n",
       "      <td>lara.andrade-org</td>\n",
       "      <td>2022-12-25 03:24:51.819338</td>\n",
       "    </tr>\n",
       "    <tr>\n",
       "      <th>2</th>\n",
       "      <td>3</td>\n",
       "      <td>Night</td>\n",
       "      <td>16GMONO2UVTCT5UXDHC2GKWQX</td>\n",
       "      <td>lara.andrade-org</td>\n",
       "      <td>2022-12-25 03:24:52.046172</td>\n",
       "    </tr>\n",
       "    <tr>\n",
       "      <th>3</th>\n",
       "      <td>3</td>\n",
       "      <td>Night</td>\n",
       "      <td>RC1WECTQISB33SSRC3NVJDX1</td>\n",
       "      <td>lara.andrade-org</td>\n",
       "      <td>2022-12-25 03:24:52.309994</td>\n",
       "    </tr>\n",
       "    <tr>\n",
       "      <th>4</th>\n",
       "      <td>3</td>\n",
       "      <td>Night</td>\n",
       "      <td>17X6VN1GN46IYTSPUY1H9P6TX</td>\n",
       "      <td>NaN</td>\n",
       "      <td>2022-12-25 03:24:51.791491</td>\n",
       "    </tr>\n",
       "  </tbody>\n",
       "</table>\n",
       "</div>"
      ],
      "text/plain": [
       "   HourOfDay Time Category                  Request ID      Organization                 Event Time\n",
       "0          3         Night   10G1PX4TZ8L6UP4A89Z92RM5N  lara.andrade-org 2022-12-25 03:24:52.199611\n",
       "1          3         Night  1T8LKV94BYTDO1VIY4VHJXW9MO  lara.andrade-org 2022-12-25 03:24:51.819338\n",
       "2          3         Night   16GMONO2UVTCT5UXDHC2GKWQX  lara.andrade-org 2022-12-25 03:24:52.046172\n",
       "3          3         Night    RC1WECTQISB33SSRC3NVJDX1  lara.andrade-org 2022-12-25 03:24:52.309994\n",
       "4          3         Night   17X6VN1GN46IYTSPUY1H9P6TX               NaN 2022-12-25 03:24:51.791491"
      ]
     },
     "execution_count": 45,
     "metadata": {},
     "output_type": "execute_result"
    },
    {
     "name": "stdout",
     "output_type": "stream",
     "text": [
      "<class 'pandas.core.frame.DataFrame'>\n",
      "RangeIndex: 19338600 entries, 0 to 19338599\n",
      "Data columns (total 5 columns):\n",
      " #   Column         Dtype         \n",
      "---  ------         -----         \n",
      " 0   HourOfDay      int64         \n",
      " 1   Time Category  object        \n",
      " 2   Request ID     object        \n",
      " 3   Organization   object        \n",
      " 4   Event Time     datetime64[ns]\n",
      "dtypes: datetime64[ns](1), int64(1), object(3)\n",
      "memory usage: 737.7+ MB\n"
     ]
    }
   ],
   "source": [
    "new_df = df[['HourOfDay', 'Time Category', 'Request ID', 'Organization', 'Event Time']].copy()\n",
    "new_df.shape\n",
    "new_df.head()\n",
    "new_df.info()"
   ]
  },
  {
   "cell_type": "code",
   "execution_count": 48,
   "id": "6ececd8c",
   "metadata": {},
   "outputs": [
    {
     "data": {
      "text/plain": [
       "HourOfDay  Event Time\n",
       "0          2022-11-30      180\n",
       "           2022-12-01    24767\n",
       "           2022-12-02    11140\n",
       "           2022-12-03    29630\n",
       "           2022-12-04    29415\n",
       "Name: Request ID, dtype: int64"
      ]
     },
     "execution_count": 48,
     "metadata": {},
     "output_type": "execute_result"
    }
   ],
   "source": [
    "# Calculate the count of request IDs for each hour\n",
    "hourly_counts = new_df.groupby(['HourOfDay', new_df['Event Time'].dt.date])['Request ID'].count()\n",
    "hourly_counts.head()"
   ]
  },
  {
   "cell_type": "code",
   "execution_count": 51,
   "id": "ea6446e9",
   "metadata": {},
   "outputs": [
    {
     "data": {
      "text/html": [
       "<div>\n",
       "<style scoped>\n",
       "    .dataframe tbody tr th:only-of-type {\n",
       "        vertical-align: middle;\n",
       "    }\n",
       "\n",
       "    .dataframe tbody tr th {\n",
       "        vertical-align: top;\n",
       "    }\n",
       "\n",
       "    .dataframe thead th {\n",
       "        text-align: right;\n",
       "    }\n",
       "</style>\n",
       "<table border=\"1\" class=\"dataframe\">\n",
       "  <thead>\n",
       "    <tr style=\"text-align: right;\">\n",
       "      <th></th>\n",
       "      <th>HourOfDay</th>\n",
       "      <th>Event Time</th>\n",
       "      <th>Request Count</th>\n",
       "    </tr>\n",
       "  </thead>\n",
       "  <tbody>\n",
       "    <tr>\n",
       "      <th>0</th>\n",
       "      <td>0</td>\n",
       "      <td>2022-11-30</td>\n",
       "      <td>180</td>\n",
       "    </tr>\n",
       "    <tr>\n",
       "      <th>1</th>\n",
       "      <td>0</td>\n",
       "      <td>2022-12-01</td>\n",
       "      <td>24767</td>\n",
       "    </tr>\n",
       "    <tr>\n",
       "      <th>2</th>\n",
       "      <td>0</td>\n",
       "      <td>2022-12-02</td>\n",
       "      <td>11140</td>\n",
       "    </tr>\n",
       "    <tr>\n",
       "      <th>3</th>\n",
       "      <td>0</td>\n",
       "      <td>2022-12-03</td>\n",
       "      <td>29630</td>\n",
       "    </tr>\n",
       "    <tr>\n",
       "      <th>4</th>\n",
       "      <td>0</td>\n",
       "      <td>2022-12-04</td>\n",
       "      <td>29415</td>\n",
       "    </tr>\n",
       "  </tbody>\n",
       "</table>\n",
       "</div>"
      ],
      "text/plain": [
       "   HourOfDay  Event Time  Request Count\n",
       "0          0  2022-11-30            180\n",
       "1          0  2022-12-01          24767\n",
       "2          0  2022-12-02          11140\n",
       "3          0  2022-12-03          29630\n",
       "4          0  2022-12-04          29415"
      ]
     },
     "execution_count": 51,
     "metadata": {},
     "output_type": "execute_result"
    }
   ],
   "source": [
    "hourly_counts_df = hourly_counts.reset_index().rename(columns={'Request ID': 'Request Count'})\n",
    "\n",
    "hourly_counts_df.head()"
   ]
  },
  {
   "cell_type": "code",
   "execution_count": 53,
   "id": "582a5d4f",
   "metadata": {},
   "outputs": [
    {
     "data": {
      "text/plain": [
       "25957.85234899329"
      ]
     },
     "execution_count": 53,
     "metadata": {},
     "output_type": "execute_result"
    },
    {
     "data": {
      "text/plain": [
       "24588.0"
      ]
     },
     "execution_count": 53,
     "metadata": {},
     "output_type": "execute_result"
    },
    {
     "data": {
      "text/plain": [
       "11469.550040259617"
      ]
     },
     "execution_count": 53,
     "metadata": {},
     "output_type": "execute_result"
    }
   ],
   "source": [
    "mean = hourly_counts_df['Request Count'].mean()\n",
    "median = hourly_counts_df['Request Count'].median()\n",
    "std = hourly_counts_df['Request Count'].std()\n",
    "\n",
    "mean\n",
    "median\n",
    "std"
   ]
  },
  {
   "cell_type": "code",
   "execution_count": 52,
   "id": "b46b0d15",
   "metadata": {},
   "outputs": [
    {
     "data": {
      "text/html": [
       "<div>\n",
       "<style scoped>\n",
       "    .dataframe tbody tr th:only-of-type {\n",
       "        vertical-align: middle;\n",
       "    }\n",
       "\n",
       "    .dataframe tbody tr th {\n",
       "        vertical-align: top;\n",
       "    }\n",
       "\n",
       "    .dataframe thead th {\n",
       "        text-align: right;\n",
       "    }\n",
       "</style>\n",
       "<table border=\"1\" class=\"dataframe\">\n",
       "  <thead>\n",
       "    <tr style=\"text-align: right;\">\n",
       "      <th></th>\n",
       "      <th>HourOfDay</th>\n",
       "      <th>Event Time</th>\n",
       "      <th>Request Count</th>\n",
       "    </tr>\n",
       "  </thead>\n",
       "  <tbody>\n",
       "    <tr>\n",
       "      <th>32</th>\n",
       "      <td>1</td>\n",
       "      <td>2022-12-01</td>\n",
       "      <td>26518</td>\n",
       "    </tr>\n",
       "    <tr>\n",
       "      <th>33</th>\n",
       "      <td>1</td>\n",
       "      <td>2022-12-02</td>\n",
       "      <td>11127</td>\n",
       "    </tr>\n",
       "    <tr>\n",
       "      <th>34</th>\n",
       "      <td>1</td>\n",
       "      <td>2022-12-03</td>\n",
       "      <td>29730</td>\n",
       "    </tr>\n",
       "    <tr>\n",
       "      <th>35</th>\n",
       "      <td>1</td>\n",
       "      <td>2022-12-04</td>\n",
       "      <td>31031</td>\n",
       "    </tr>\n",
       "    <tr>\n",
       "      <th>36</th>\n",
       "      <td>1</td>\n",
       "      <td>2022-12-05</td>\n",
       "      <td>31280</td>\n",
       "    </tr>\n",
       "    <tr>\n",
       "      <th>37</th>\n",
       "      <td>1</td>\n",
       "      <td>2022-12-06</td>\n",
       "      <td>12507</td>\n",
       "    </tr>\n",
       "    <tr>\n",
       "      <th>38</th>\n",
       "      <td>1</td>\n",
       "      <td>2022-12-07</td>\n",
       "      <td>10558</td>\n",
       "    </tr>\n",
       "    <tr>\n",
       "      <th>39</th>\n",
       "      <td>1</td>\n",
       "      <td>2022-12-08</td>\n",
       "      <td>20256</td>\n",
       "    </tr>\n",
       "    <tr>\n",
       "      <th>40</th>\n",
       "      <td>1</td>\n",
       "      <td>2022-12-09</td>\n",
       "      <td>6010</td>\n",
       "    </tr>\n",
       "    <tr>\n",
       "      <th>41</th>\n",
       "      <td>1</td>\n",
       "      <td>2022-12-10</td>\n",
       "      <td>7452</td>\n",
       "    </tr>\n",
       "    <tr>\n",
       "      <th>42</th>\n",
       "      <td>1</td>\n",
       "      <td>2022-12-11</td>\n",
       "      <td>8881</td>\n",
       "    </tr>\n",
       "    <tr>\n",
       "      <th>43</th>\n",
       "      <td>1</td>\n",
       "      <td>2022-12-12</td>\n",
       "      <td>11551</td>\n",
       "    </tr>\n",
       "    <tr>\n",
       "      <th>44</th>\n",
       "      <td>1</td>\n",
       "      <td>2022-12-13</td>\n",
       "      <td>8961</td>\n",
       "    </tr>\n",
       "    <tr>\n",
       "      <th>45</th>\n",
       "      <td>1</td>\n",
       "      <td>2022-12-14</td>\n",
       "      <td>28933</td>\n",
       "    </tr>\n",
       "    <tr>\n",
       "      <th>46</th>\n",
       "      <td>1</td>\n",
       "      <td>2022-12-15</td>\n",
       "      <td>12169</td>\n",
       "    </tr>\n",
       "    <tr>\n",
       "      <th>47</th>\n",
       "      <td>1</td>\n",
       "      <td>2022-12-16</td>\n",
       "      <td>14863</td>\n",
       "    </tr>\n",
       "    <tr>\n",
       "      <th>48</th>\n",
       "      <td>1</td>\n",
       "      <td>2022-12-17</td>\n",
       "      <td>20227</td>\n",
       "    </tr>\n",
       "    <tr>\n",
       "      <th>49</th>\n",
       "      <td>1</td>\n",
       "      <td>2022-12-18</td>\n",
       "      <td>21158</td>\n",
       "    </tr>\n",
       "    <tr>\n",
       "      <th>50</th>\n",
       "      <td>1</td>\n",
       "      <td>2022-12-19</td>\n",
       "      <td>20370</td>\n",
       "    </tr>\n",
       "    <tr>\n",
       "      <th>51</th>\n",
       "      <td>1</td>\n",
       "      <td>2022-12-20</td>\n",
       "      <td>16860</td>\n",
       "    </tr>\n",
       "    <tr>\n",
       "      <th>52</th>\n",
       "      <td>1</td>\n",
       "      <td>2022-12-21</td>\n",
       "      <td>24998</td>\n",
       "    </tr>\n",
       "    <tr>\n",
       "      <th>53</th>\n",
       "      <td>1</td>\n",
       "      <td>2022-12-22</td>\n",
       "      <td>17749</td>\n",
       "    </tr>\n",
       "    <tr>\n",
       "      <th>54</th>\n",
       "      <td>1</td>\n",
       "      <td>2022-12-23</td>\n",
       "      <td>22958</td>\n",
       "    </tr>\n",
       "    <tr>\n",
       "      <th>55</th>\n",
       "      <td>1</td>\n",
       "      <td>2022-12-24</td>\n",
       "      <td>21808</td>\n",
       "    </tr>\n",
       "    <tr>\n",
       "      <th>56</th>\n",
       "      <td>1</td>\n",
       "      <td>2022-12-25</td>\n",
       "      <td>20044</td>\n",
       "    </tr>\n",
       "    <tr>\n",
       "      <th>57</th>\n",
       "      <td>1</td>\n",
       "      <td>2022-12-26</td>\n",
       "      <td>19450</td>\n",
       "    </tr>\n",
       "    <tr>\n",
       "      <th>58</th>\n",
       "      <td>1</td>\n",
       "      <td>2022-12-27</td>\n",
       "      <td>15829</td>\n",
       "    </tr>\n",
       "    <tr>\n",
       "      <th>59</th>\n",
       "      <td>1</td>\n",
       "      <td>2022-12-28</td>\n",
       "      <td>23802</td>\n",
       "    </tr>\n",
       "    <tr>\n",
       "      <th>60</th>\n",
       "      <td>1</td>\n",
       "      <td>2022-12-29</td>\n",
       "      <td>21698</td>\n",
       "    </tr>\n",
       "    <tr>\n",
       "      <th>61</th>\n",
       "      <td>1</td>\n",
       "      <td>2022-12-30</td>\n",
       "      <td>28067</td>\n",
       "    </tr>\n",
       "    <tr>\n",
       "      <th>62</th>\n",
       "      <td>1</td>\n",
       "      <td>2022-12-31</td>\n",
       "      <td>19164</td>\n",
       "    </tr>\n",
       "  </tbody>\n",
       "</table>\n",
       "</div>"
      ],
      "text/plain": [
       "    HourOfDay  Event Time  Request Count\n",
       "32          1  2022-12-01          26518\n",
       "33          1  2022-12-02          11127\n",
       "34          1  2022-12-03          29730\n",
       "35          1  2022-12-04          31031\n",
       "36          1  2022-12-05          31280\n",
       "37          1  2022-12-06          12507\n",
       "38          1  2022-12-07          10558\n",
       "39          1  2022-12-08          20256\n",
       "40          1  2022-12-09           6010\n",
       "41          1  2022-12-10           7452\n",
       "42          1  2022-12-11           8881\n",
       "43          1  2022-12-12          11551\n",
       "44          1  2022-12-13           8961\n",
       "45          1  2022-12-14          28933\n",
       "46          1  2022-12-15          12169\n",
       "47          1  2022-12-16          14863\n",
       "48          1  2022-12-17          20227\n",
       "49          1  2022-12-18          21158\n",
       "50          1  2022-12-19          20370\n",
       "51          1  2022-12-20          16860\n",
       "52          1  2022-12-21          24998\n",
       "53          1  2022-12-22          17749\n",
       "54          1  2022-12-23          22958\n",
       "55          1  2022-12-24          21808\n",
       "56          1  2022-12-25          20044\n",
       "57          1  2022-12-26          19450\n",
       "58          1  2022-12-27          15829\n",
       "59          1  2022-12-28          23802\n",
       "60          1  2022-12-29          21698\n",
       "61          1  2022-12-30          28067\n",
       "62          1  2022-12-31          19164"
      ]
     },
     "execution_count": 52,
     "metadata": {},
     "output_type": "execute_result"
    }
   ],
   "source": [
    "hourly_counts_df[hourly_counts_df.HourOfDay==1]"
   ]
  },
  {
   "cell_type": "code",
   "execution_count": 59,
   "id": "0771b146",
   "metadata": {},
   "outputs": [
    {
     "data": {
      "text/html": [
       "<div>\n",
       "<style scoped>\n",
       "    .dataframe tbody tr th:only-of-type {\n",
       "        vertical-align: middle;\n",
       "    }\n",
       "\n",
       "    .dataframe tbody tr th {\n",
       "        vertical-align: top;\n",
       "    }\n",
       "\n",
       "    .dataframe thead th {\n",
       "        text-align: right;\n",
       "    }\n",
       "</style>\n",
       "<table border=\"1\" class=\"dataframe\">\n",
       "  <thead>\n",
       "    <tr style=\"text-align: right;\">\n",
       "      <th></th>\n",
       "      <th>HourOfDay</th>\n",
       "      <th>Event Time</th>\n",
       "      <th>Request Count</th>\n",
       "      <th>Value Category</th>\n",
       "    </tr>\n",
       "  </thead>\n",
       "  <tbody>\n",
       "    <tr>\n",
       "      <th>0</th>\n",
       "      <td>0</td>\n",
       "      <td>2022-11-30</td>\n",
       "      <td>180</td>\n",
       "      <td>Low value</td>\n",
       "    </tr>\n",
       "    <tr>\n",
       "      <th>1</th>\n",
       "      <td>0</td>\n",
       "      <td>2022-12-01</td>\n",
       "      <td>24767</td>\n",
       "      <td>Low value</td>\n",
       "    </tr>\n",
       "    <tr>\n",
       "      <th>2</th>\n",
       "      <td>0</td>\n",
       "      <td>2022-12-02</td>\n",
       "      <td>11140</td>\n",
       "      <td>Low value</td>\n",
       "    </tr>\n",
       "    <tr>\n",
       "      <th>3</th>\n",
       "      <td>0</td>\n",
       "      <td>2022-12-03</td>\n",
       "      <td>29630</td>\n",
       "      <td>High value</td>\n",
       "    </tr>\n",
       "    <tr>\n",
       "      <th>4</th>\n",
       "      <td>0</td>\n",
       "      <td>2022-12-04</td>\n",
       "      <td>29415</td>\n",
       "      <td>High value</td>\n",
       "    </tr>\n",
       "  </tbody>\n",
       "</table>\n",
       "</div>"
      ],
      "text/plain": [
       "   HourOfDay  Event Time  Request Count Value Category\n",
       "0          0  2022-11-30            180      Low value\n",
       "1          0  2022-12-01          24767      Low value\n",
       "2          0  2022-12-02          11140      Low value\n",
       "3          0  2022-12-03          29630     High value\n",
       "4          0  2022-12-04          29415     High value"
      ]
     },
     "execution_count": 59,
     "metadata": {},
     "output_type": "execute_result"
    }
   ],
   "source": [
    "hourly_counts_df['Value Category'] = hourly_counts_df['Request Count'].apply(lambda x: 'High value' if x > 25000 else 'Low value')\n",
    "hourly_counts_df.head()"
   ]
  },
  {
   "cell_type": "code",
   "execution_count": 63,
   "id": "82249abd",
   "metadata": {},
   "outputs": [
    {
     "data": {
      "text/plain": [
       "Low value     392\n",
       "High value    353\n",
       "Name: Value Category, dtype: int64"
      ]
     },
     "execution_count": 63,
     "metadata": {},
     "output_type": "execute_result"
    }
   ],
   "source": [
    "hourly_counts_df['Value Category'].value_counts()"
   ]
  },
  {
   "cell_type": "code",
   "execution_count": 69,
   "id": "5a4f92cd",
   "metadata": {},
   "outputs": [
    {
     "data": {
      "text/plain": [
       "LogisticRegression()"
      ]
     },
     "execution_count": 69,
     "metadata": {},
     "output_type": "execute_result"
    },
    {
     "name": "stdout",
     "output_type": "stream",
     "text": [
      "Prediction for the next hour:\n",
      "['Low value']\n",
      "Classification Report:\n",
      "              precision    recall  f1-score   support\n",
      "\n",
      "  High value       0.00      0.00      0.00        70\n",
      "   Low value       0.53      1.00      0.69        79\n",
      "\n",
      "    accuracy                           0.53       149\n",
      "   macro avg       0.27      0.50      0.35       149\n",
      "weighted avg       0.28      0.53      0.37       149\n",
      "\n"
     ]
    }
   ],
   "source": [
    "from sklearn.model_selection import train_test_split\n",
    "from sklearn.linear_model import LogisticRegression\n",
    "from sklearn.metrics import classification_report\n",
    "\n",
    "# Assuming you have the 'hourly_counts_df' dataframe with columns: HourOfDay, Event Time, Request Count, Value Category\n",
    "\n",
    "# Convert 'Event Time' column to datetime type\n",
    "hourly_counts_df['Event Time'] = pd.to_datetime(hourly_counts_df['Event Time'])\n",
    "\n",
    "# Sort the dataframe by 'Event Time'\n",
    "hourly_counts_df.sort_values('Event Time', inplace=True)\n",
    "\n",
    "# Create lagged features\n",
    "hourly_counts_df['Prev_HourOfDay'] = hourly_counts_df['HourOfDay'].shift(1)\n",
    "hourly_counts_df['Prev_Value_Category'] = hourly_counts_df['Value Category'].shift(1)\n",
    "\n",
    "# Drop rows with missing values\n",
    "hourly_counts_df.dropna(inplace=True)\n",
    "\n",
    "# Split the data into training and test sets\n",
    "X = hourly_counts_df[['Prev_HourOfDay']]\n",
    "y = hourly_counts_df['Value Category']\n",
    "X_train, X_test, y_train, y_test = train_test_split(X, y, test_size=0.2, random_state=42)\n",
    "\n",
    "# Train the logistic regression model\n",
    "model = LogisticRegression()\n",
    "model.fit(X_train, y_train)\n",
    "\n",
    "# Predict the value category for the next HourOfDay\n",
    "X_next_hour = hourly_counts_df['HourOfDay'].max() + 1  # Assuming the next hour is the maximum HourOfDay value + 1\n",
    "y_pred = model.predict([[X_next_hour]])\n",
    "\n",
    "# Print the prediction\n",
    "print(\"Prediction for the next hour:\")\n",
    "print(y_pred)\n",
    "\n",
    "# Evaluate the model on the test set\n",
    "y_pred_test = model.predict(X_test)\n",
    "print(\"Classification Report:\")\n",
    "print(classification_report(y_test, y_pred_test))\n"
   ]
  },
  {
   "cell_type": "code",
   "execution_count": 70,
   "id": "5cde10a9",
   "metadata": {},
   "outputs": [
    {
     "data": {
      "text/plain": [
       "RandomForestClassifier()"
      ]
     },
     "execution_count": 70,
     "metadata": {},
     "output_type": "execute_result"
    },
    {
     "name": "stdout",
     "output_type": "stream",
     "text": [
      "Prediction for the next hour:\n",
      "['High value']\n",
      "Classification Report:\n",
      "              precision    recall  f1-score   support\n",
      "\n",
      "  High value       0.31      0.21      0.25        71\n",
      "   Low value       0.44      0.56      0.49        78\n",
      "\n",
      "    accuracy                           0.40       149\n",
      "   macro avg       0.37      0.39      0.37       149\n",
      "weighted avg       0.38      0.40      0.38       149\n",
      "\n"
     ]
    }
   ],
   "source": [
    "from sklearn.model_selection import train_test_split\n",
    "from sklearn.ensemble import RandomForestClassifier\n",
    "from sklearn.metrics import classification_report\n",
    "\n",
    "# Assuming you have the 'hourly_counts_df' dataframe with columns: HourOfDay, Event Time, Request Count, Value Category\n",
    "\n",
    "# Convert 'Event Time' column to datetime type\n",
    "hourly_counts_df['Event Time'] = pd.to_datetime(hourly_counts_df['Event Time'])\n",
    "\n",
    "# Sort the dataframe by 'Event Time'\n",
    "hourly_counts_df.sort_values('Event Time', inplace=True)\n",
    "\n",
    "# Create lagged features\n",
    "hourly_counts_df['Prev_HourOfDay'] = hourly_counts_df['HourOfDay'].shift(1)\n",
    "hourly_counts_df['Prev_Value_Category'] = hourly_counts_df['Value Category'].shift(1)\n",
    "\n",
    "# Drop rows with missing values\n",
    "hourly_counts_df.dropna(inplace=True)\n",
    "\n",
    "# Split the data into training and test sets\n",
    "X = hourly_counts_df[['Prev_HourOfDay']]\n",
    "y = hourly_counts_df['Value Category']\n",
    "X_train, X_test, y_train, y_test = train_test_split(X, y, test_size=0.2, random_state=42)\n",
    "\n",
    "# Train the Random Forest classifier\n",
    "model = RandomForestClassifier()\n",
    "model.fit(X_train, y_train)\n",
    "\n",
    "# Predict the value category for the next HourOfDay\n",
    "X_next_hour = hourly_counts_df['HourOfDay'].max() + 1  # Assuming the next hour is the maximum HourOfDay value + 1\n",
    "y_pred = model.predict([[X_next_hour]])\n",
    "\n",
    "# Print the prediction\n",
    "print(\"Prediction for the next hour:\")\n",
    "print(y_pred)\n",
    "\n",
    "# Evaluate the model on the test set\n",
    "y_pred_test = model.predict(X_test)\n",
    "print(\"Classification Report:\")\n",
    "print(classification_report(y_test, y_pred_test))\n"
   ]
  },
  {
   "cell_type": "code",
   "execution_count": 67,
   "id": "87a197eb",
   "metadata": {},
   "outputs": [
    {
     "data": {
      "text/plain": [
       "LogisticRegression()"
      ]
     },
     "execution_count": 67,
     "metadata": {},
     "output_type": "execute_result"
    },
    {
     "name": "stdout",
     "output_type": "stream",
     "text": [
      "              precision    recall  f1-score   support\n",
      "\n",
      "  High value       0.48      0.66      0.56        70\n",
      "   Low value       0.56      0.38      0.45        79\n",
      "\n",
      "    accuracy                           0.51       149\n",
      "   macro avg       0.52      0.52      0.50       149\n",
      "weighted avg       0.52      0.51      0.50       149\n",
      "\n"
     ]
    }
   ],
   "source": [
    "# Prepare the feature matrix X and the target variable y\n",
    "X = hourly_counts_df[['HourOfDay', 'Request Count']]\n",
    "y = hourly_counts_df['Next Hour Value Category']\n",
    "\n",
    "# Split the data into train and test sets\n",
    "X_train, X_test, y_train, y_test = train_test_split(X, y, test_size=0.2, random_state=42)\n",
    "\n",
    "# Create a logistic regression model\n",
    "model = LogisticRegression()\n",
    "\n",
    "# Fit the model on the training data\n",
    "model.fit(X_train, y_train)\n",
    "\n",
    "# Make predictions on the test data\n",
    "y_pred = model.predict(X_test)\n",
    "\n",
    "# Evaluate the model\n",
    "print(classification_report(y_test, y_pred))\n"
   ]
  },
  {
   "cell_type": "code",
   "execution_count": 55,
   "id": "6ab5b38c",
   "metadata": {},
   "outputs": [
    {
     "name": "stdout",
     "output_type": "stream",
     "text": [
      "   HourOfDay Time Category                  Request ID      Organization                 Event Time Request Category\n",
      "0          3         Night   10G1PX4TZ8L6UP4A89Z92RM5N  lara.andrade-org 2022-12-25 03:24:52.199611              Low\n",
      "1          3         Night  1T8LKV94BYTDO1VIY4VHJXW9MO  lara.andrade-org 2022-12-25 03:24:51.819338              Low\n",
      "2          3         Night   16GMONO2UVTCT5UXDHC2GKWQX  lara.andrade-org 2022-12-25 03:24:52.046172              Low\n",
      "3          3         Night    RC1WECTQISB33SSRC3NVJDX1  lara.andrade-org 2022-12-25 03:24:52.309994              Low\n",
      "4          3         Night   17X6VN1GN46IYTSPUY1H9P6TX               NaN 2022-12-25 03:24:51.791491              Low\n"
     ]
    }
   ],
   "source": [
    "# Calculate the count of request IDs for each hour and day combination\n",
    "hourly_counts = new_df.groupby(['HourOfDay', new_df['Event Time'].dt.date])['Request ID'].count()\n",
    "\n",
    "# Set a threshold for high request count\n",
    "threshold = 25000  # Adjust the threshold as per your requirements\n",
    "\n",
    "# Create a new column 'Request Category' indicating high or low request hour\n",
    "new_df['Request Category'] = new_df.apply(lambda row: 'High' if hourly_counts[row['HourOfDay'], row['Event Time'].date()] >= threshold else 'Low', axis=1)\n",
    "\n",
    "# Display the updated dataframe\n",
    "print(new_df.head())"
   ]
  },
  {
   "cell_type": "markdown",
   "id": "7a6e3f76",
   "metadata": {},
   "source": [
    "June 19 2023 3:45"
   ]
  },
  {
   "cell_type": "markdown",
   "id": "cf649fdc",
   "metadata": {},
   "source": [
    "## EDA"
   ]
  },
  {
   "cell_type": "code",
   "execution_count": 80,
   "id": "d63c73ce",
   "metadata": {},
   "outputs": [
    {
     "data": {
      "text/html": [
       "<div>\n",
       "<style scoped>\n",
       "    .dataframe tbody tr th:only-of-type {\n",
       "        vertical-align: middle;\n",
       "    }\n",
       "\n",
       "    .dataframe tbody tr th {\n",
       "        vertical-align: top;\n",
       "    }\n",
       "\n",
       "    .dataframe thead th {\n",
       "        text-align: right;\n",
       "    }\n",
       "</style>\n",
       "<table border=\"1\" class=\"dataframe\">\n",
       "  <thead>\n",
       "    <tr style=\"text-align: right;\">\n",
       "      <th></th>\n",
       "      <th>Time Stamp</th>\n",
       "      <th>Event ID</th>\n",
       "      <th>Message Code</th>\n",
       "      <th>Event Time</th>\n",
       "      <th>Ingest Time</th>\n",
       "      <th>Request ID</th>\n",
       "      <th>Source IP</th>\n",
       "      <th>HTTP Method</th>\n",
       "      <th>HTTP Url</th>\n",
       "      <th>Resource</th>\n",
       "      <th>Resource Class</th>\n",
       "      <th>Resource Method</th>\n",
       "      <th>Organization</th>\n",
       "      <th>App</th>\n",
       "      <th>User</th>\n",
       "      <th>Entity</th>\n",
       "      <th>Timestamp Request</th>\n",
       "      <th>Timestamp Response</th>\n",
       "      <th>Response_time</th>\n",
       "      <th>HourOfDay</th>\n",
       "      <th>Time Category</th>\n",
       "    </tr>\n",
       "  </thead>\n",
       "  <tbody>\n",
       "    <tr>\n",
       "      <th>0</th>\n",
       "      <td>2022-12-25 03:24:57</td>\n",
       "      <td>10G1PX4TZ8L6UP4A89Z92RM5N</td>\n",
       "      <td>DDV1_HTTP</td>\n",
       "      <td>2022-12-25 03:24:52.199611</td>\n",
       "      <td>2022-12-25 03:24:57.310332500+00:00</td>\n",
       "      <td>10G1PX4TZ8L6UP4A89Z92RM5N</td>\n",
       "      <td>62.48.164.170</td>\n",
       "      <td>GET</td>\n",
       "      <td>https://api.docdigitizer.com/api/v1/tasks/a1ca...</td>\n",
       "      <td>TaskResource.get</td>\n",
       "      <td>TaskResource.get</td>\n",
       "      <td>TaskResource.get</td>\n",
       "      <td>lara.andrade-org</td>\n",
       "      <td>lara.andrade-org_app</td>\n",
       "      <td>NaN</td>\n",
       "      <td>lara.andrade-org_app</td>\n",
       "      <td>2022-12-25 03:24:52.197591</td>\n",
       "      <td>2022-12-25 03:24:52.199611</td>\n",
       "      <td>0 days 00:00:00.002020</td>\n",
       "      <td>3</td>\n",
       "      <td>Night</td>\n",
       "    </tr>\n",
       "    <tr>\n",
       "      <th>1</th>\n",
       "      <td>2022-12-25 03:24:57</td>\n",
       "      <td>1T8LKV94BYTDO1VIY4VHJXW9MO</td>\n",
       "      <td>DDV1_HTTP</td>\n",
       "      <td>2022-12-25 03:24:51.819338</td>\n",
       "      <td>2022-12-25 03:24:57.422993700+00:00</td>\n",
       "      <td>1T8LKV94BYTDO1VIY4VHJXW9MO</td>\n",
       "      <td>62.48.164.170</td>\n",
       "      <td>GET</td>\n",
       "      <td>https://api.docdigitizer.com/api/v1/tasks/ac59...</td>\n",
       "      <td>TaskResource.get</td>\n",
       "      <td>TaskResource.get</td>\n",
       "      <td>TaskResource.get</td>\n",
       "      <td>lara.andrade-org</td>\n",
       "      <td>lara.andrade-org_app</td>\n",
       "      <td>NaN</td>\n",
       "      <td>lara.andrade-org_app</td>\n",
       "      <td>2022-12-25 03:24:51.817850</td>\n",
       "      <td>2022-12-25 03:24:51.819338</td>\n",
       "      <td>0 days 00:00:00.001488</td>\n",
       "      <td>3</td>\n",
       "      <td>Night</td>\n",
       "    </tr>\n",
       "    <tr>\n",
       "      <th>2</th>\n",
       "      <td>2022-12-25 03:24:57</td>\n",
       "      <td>16GMONO2UVTCT5UXDHC2GKWQX</td>\n",
       "      <td>DDV1_HTTP</td>\n",
       "      <td>2022-12-25 03:24:52.046172</td>\n",
       "      <td>2022-12-25 03:24:57.422995900+00:00</td>\n",
       "      <td>16GMONO2UVTCT5UXDHC2GKWQX</td>\n",
       "      <td>62.48.164.170</td>\n",
       "      <td>GET</td>\n",
       "      <td>https://api.docdigitizer.com/api/v1/tasks/37df...</td>\n",
       "      <td>TaskResource.get</td>\n",
       "      <td>TaskResource.get</td>\n",
       "      <td>TaskResource.get</td>\n",
       "      <td>lara.andrade-org</td>\n",
       "      <td>lara.andrade-org_app</td>\n",
       "      <td>NaN</td>\n",
       "      <td>lara.andrade-org_app</td>\n",
       "      <td>2022-12-25 03:24:52.044870</td>\n",
       "      <td>2022-12-25 03:24:52.046172</td>\n",
       "      <td>0 days 00:00:00.001302</td>\n",
       "      <td>3</td>\n",
       "      <td>Night</td>\n",
       "    </tr>\n",
       "    <tr>\n",
       "      <th>3</th>\n",
       "      <td>2022-12-25 03:24:57</td>\n",
       "      <td>RC1WECTQISB33SSRC3NVJDX1</td>\n",
       "      <td>DDV1_HTTP</td>\n",
       "      <td>2022-12-25 03:24:52.309994</td>\n",
       "      <td>2022-12-25 03:24:57.422996300+00:00</td>\n",
       "      <td>RC1WECTQISB33SSRC3NVJDX1</td>\n",
       "      <td>62.48.164.170</td>\n",
       "      <td>GET</td>\n",
       "      <td>https://api.docdigitizer.com/api/v1/tasks/4da0...</td>\n",
       "      <td>TaskResource.get</td>\n",
       "      <td>TaskResource.get</td>\n",
       "      <td>TaskResource.get</td>\n",
       "      <td>lara.andrade-org</td>\n",
       "      <td>lara.andrade-org_app</td>\n",
       "      <td>NaN</td>\n",
       "      <td>lara.andrade-org_app</td>\n",
       "      <td>2022-12-25 03:24:52.308694</td>\n",
       "      <td>2022-12-25 03:24:52.309994</td>\n",
       "      <td>0 days 00:00:00.001300</td>\n",
       "      <td>3</td>\n",
       "      <td>Night</td>\n",
       "    </tr>\n",
       "    <tr>\n",
       "      <th>4</th>\n",
       "      <td>2022-12-25 03:24:57</td>\n",
       "      <td>17X6VN1GN46IYTSPUY1H9P6TX</td>\n",
       "      <td>DDV1_HTTP</td>\n",
       "      <td>2022-12-25 03:24:51.791491</td>\n",
       "      <td>2022-12-25 03:24:57.671910300+00:00</td>\n",
       "      <td>17X6VN1GN46IYTSPUY1H9P6TX</td>\n",
       "      <td>NaN</td>\n",
       "      <td>GET</td>\n",
       "      <td>https://10.154.0.21/liveness_check</td>\n",
       "      <td>NaN</td>\n",
       "      <td>NaN</td>\n",
       "      <td>NaN</td>\n",
       "      <td>NaN</td>\n",
       "      <td>NaN</td>\n",
       "      <td>NaN</td>\n",
       "      <td>NaN</td>\n",
       "      <td>2022-12-25 03:24:51.790677</td>\n",
       "      <td>2022-12-25 03:24:51.791491</td>\n",
       "      <td>0 days 00:00:00.000814</td>\n",
       "      <td>3</td>\n",
       "      <td>Night</td>\n",
       "    </tr>\n",
       "  </tbody>\n",
       "</table>\n",
       "</div>"
      ],
      "text/plain": [
       "           Time Stamp                    Event ID Message Code                 Event Time                         Ingest Time                  Request ID      Source IP HTTP Method                                           HTTP Url          Resource    Resource Class   Resource Method      Organization                   App User                Entity          Timestamp Request         Timestamp Response          Response_time  HourOfDay Time Category\n",
       "0 2022-12-25 03:24:57   10G1PX4TZ8L6UP4A89Z92RM5N    DDV1_HTTP 2022-12-25 03:24:52.199611 2022-12-25 03:24:57.310332500+00:00   10G1PX4TZ8L6UP4A89Z92RM5N  62.48.164.170         GET  https://api.docdigitizer.com/api/v1/tasks/a1ca...  TaskResource.get  TaskResource.get  TaskResource.get  lara.andrade-org  lara.andrade-org_app  NaN  lara.andrade-org_app 2022-12-25 03:24:52.197591 2022-12-25 03:24:52.199611 0 days 00:00:00.002020          3         Night\n",
       "1 2022-12-25 03:24:57  1T8LKV94BYTDO1VIY4VHJXW9MO    DDV1_HTTP 2022-12-25 03:24:51.819338 2022-12-25 03:24:57.422993700+00:00  1T8LKV94BYTDO1VIY4VHJXW9MO  62.48.164.170         GET  https://api.docdigitizer.com/api/v1/tasks/ac59...  TaskResource.get  TaskResource.get  TaskResource.get  lara.andrade-org  lara.andrade-org_app  NaN  lara.andrade-org_app 2022-12-25 03:24:51.817850 2022-12-25 03:24:51.819338 0 days 00:00:00.001488          3         Night\n",
       "2 2022-12-25 03:24:57   16GMONO2UVTCT5UXDHC2GKWQX    DDV1_HTTP 2022-12-25 03:24:52.046172 2022-12-25 03:24:57.422995900+00:00   16GMONO2UVTCT5UXDHC2GKWQX  62.48.164.170         GET  https://api.docdigitizer.com/api/v1/tasks/37df...  TaskResource.get  TaskResource.get  TaskResource.get  lara.andrade-org  lara.andrade-org_app  NaN  lara.andrade-org_app 2022-12-25 03:24:52.044870 2022-12-25 03:24:52.046172 0 days 00:00:00.001302          3         Night\n",
       "3 2022-12-25 03:24:57    RC1WECTQISB33SSRC3NVJDX1    DDV1_HTTP 2022-12-25 03:24:52.309994 2022-12-25 03:24:57.422996300+00:00    RC1WECTQISB33SSRC3NVJDX1  62.48.164.170         GET  https://api.docdigitizer.com/api/v1/tasks/4da0...  TaskResource.get  TaskResource.get  TaskResource.get  lara.andrade-org  lara.andrade-org_app  NaN  lara.andrade-org_app 2022-12-25 03:24:52.308694 2022-12-25 03:24:52.309994 0 days 00:00:00.001300          3         Night\n",
       "4 2022-12-25 03:24:57   17X6VN1GN46IYTSPUY1H9P6TX    DDV1_HTTP 2022-12-25 03:24:51.791491 2022-12-25 03:24:57.671910300+00:00   17X6VN1GN46IYTSPUY1H9P6TX            NaN         GET                 https://10.154.0.21/liveness_check               NaN               NaN               NaN               NaN                   NaN  NaN                   NaN 2022-12-25 03:24:51.790677 2022-12-25 03:24:51.791491 0 days 00:00:00.000814          3         Night"
      ]
     },
     "execution_count": 80,
     "metadata": {},
     "output_type": "execute_result"
    }
   ],
   "source": [
    "df.head()"
   ]
  },
  {
   "cell_type": "code",
   "execution_count": 81,
   "id": "8d7f8f30",
   "metadata": {},
   "outputs": [
    {
     "data": {
      "text/plain": [
       "[<matplotlib.lines.Line2D at 0x7f885fd1a340>]"
      ]
     },
     "execution_count": 81,
     "metadata": {},
     "output_type": "execute_result"
    },
    {
     "data": {
      "text/plain": [
       "Text(0.5, 0, 'Date')"
      ]
     },
     "execution_count": 81,
     "metadata": {},
     "output_type": "execute_result"
    },
    {
     "data": {
      "text/plain": [
       "Text(0, 0.5, 'Request Frequency')"
      ]
     },
     "execution_count": 81,
     "metadata": {},
     "output_type": "execute_result"
    },
    {
     "data": {
      "text/plain": [
       "Text(0.5, 1.0, 'Frequency of Requests Over Time')"
      ]
     },
     "execution_count": 81,
     "metadata": {},
     "output_type": "execute_result"
    },
    {
     "data": {
      "text/plain": [
       "(array([19325., 19327., 19331., 19335., 19339., 19343., 19347., 19351.,\n",
       "        19355., 19358.]),\n",
       " [Text(0, 0, ''),\n",
       "  Text(0, 0, ''),\n",
       "  Text(0, 0, ''),\n",
       "  Text(0, 0, ''),\n",
       "  Text(0, 0, ''),\n",
       "  Text(0, 0, ''),\n",
       "  Text(0, 0, ''),\n",
       "  Text(0, 0, ''),\n",
       "  Text(0, 0, ''),\n",
       "  Text(0, 0, '')])"
      ]
     },
     "execution_count": 81,
     "metadata": {},
     "output_type": "execute_result"
    },
    {
     "data": {
      "image/png": "[encoded data removed]",
      "text/plain": [
       "<Figure size 432x288 with 1 Axes>"
      ]
     },
     "metadata": {
      "needs_background": "light"
     },
     "output_type": "display_data"
    }
   ],
   "source": [
    "import matplotlib.pyplot as plt\n",
    "import pandas as pd\n",
    "\n",
    "# Extract the date and count the frequency of requests per date\n",
    "request_freq = df['Timestamp Request'].dt.date.value_counts().sort_index()\n",
    "\n",
    "# Create a line plot of the request frequency\n",
    "plt.plot(request_freq.index, request_freq.values)\n",
    "plt.xlabel('Date')\n",
    "plt.ylabel('Request Frequency')\n",
    "plt.title('Frequency of Requests Over Time')\n",
    "plt.xticks(rotation=45)\n",
    "plt.grid(True)\n",
    "\n",
    "# Display the graph\n",
    "plt.show()"
   ]
  },
  {
   "cell_type": "code",
   "execution_count": 82,
   "id": "150b0c90",
   "metadata": {},
   "outputs": [
    {
     "data": {
      "text/plain": [
       "[<matplotlib.lines.Line2D at 0x7f88d15379a0>]"
      ]
     },
     "execution_count": 82,
     "metadata": {},
     "output_type": "execute_result"
    },
    {
     "data": {
      "text/plain": [
       "(array([19325., 19326., 19327., 19328., 19329., 19330., 19331., 19332.,\n",
       "        19333., 19334., 19335., 19336., 19337., 19338., 19339., 19340.,\n",
       "        19341., 19342., 19343., 19344., 19345., 19346., 19347., 19348.,\n",
       "        19349., 19350., 19351., 19352., 19353., 19354., 19355., 19356.,\n",
       "        19357., 19358.]),\n",
       " [Text(0, 0, ''),\n",
       "  Text(0, 0, ''),\n",
       "  Text(0, 0, ''),\n",
       "  Text(0, 0, ''),\n",
       "  Text(0, 0, ''),\n",
       "  Text(0, 0, ''),\n",
       "  Text(0, 0, ''),\n",
       "  Text(0, 0, ''),\n",
       "  Text(0, 0, ''),\n",
       "  Text(0, 0, ''),\n",
       "  Text(0, 0, ''),\n",
       "  Text(0, 0, ''),\n",
       "  Text(0, 0, ''),\n",
       "  Text(0, 0, ''),\n",
       "  Text(0, 0, ''),\n",
       "  Text(0, 0, ''),\n",
       "  Text(0, 0, ''),\n",
       "  Text(0, 0, ''),\n",
       "  Text(0, 0, ''),\n",
       "  Text(0, 0, ''),\n",
       "  Text(0, 0, ''),\n",
       "  Text(0, 0, ''),\n",
       "  Text(0, 0, ''),\n",
       "  Text(0, 0, ''),\n",
       "  Text(0, 0, ''),\n",
       "  Text(0, 0, ''),\n",
       "  Text(0, 0, ''),\n",
       "  Text(0, 0, ''),\n",
       "  Text(0, 0, ''),\n",
       "  Text(0, 0, ''),\n",
       "  Text(0, 0, ''),\n",
       "  Text(0, 0, ''),\n",
       "  Text(0, 0, ''),\n",
       "  Text(0, 0, '')])"
      ]
     },
     "execution_count": 82,
     "metadata": {},
     "output_type": "execute_result"
    },
    {
     "data": {
      "text/plain": [
       "Text(0.5, 0, 'Date')"
      ]
     },
     "execution_count": 82,
     "metadata": {},
     "output_type": "execute_result"
    },
    {
     "data": {
      "text/plain": [
       "Text(0, 0.5, 'Request Frequency')"
      ]
     },
     "execution_count": 82,
     "metadata": {},
     "output_type": "execute_result"
    },
    {
     "data": {
      "text/plain": [
       "Text(0.5, 1.0, 'Frequency of Requests Over Time')"
      ]
     },
     "execution_count": 82,
     "metadata": {},
     "output_type": "execute_result"
    },
    {
     "data": {
      "text/plain": [
       "<matplotlib.lines.Line2D at 0x7f88d1508340>"
      ]
     },
     "execution_count": 82,
     "metadata": {},
     "output_type": "execute_result"
    },
    {
     "data": {
      "text/plain": [
       "Text(2022-12-31, 604331.25, 'Avg: 604331.25')"
      ]
     },
     "execution_count": 82,
     "metadata": {},
     "output_type": "execute_result"
    },
    {
     "data": {
      "text/plain": [
       "Text(2022-12-04, 901945, 'Max: 901845')"
      ]
     },
     "execution_count": 82,
     "metadata": {},
     "output_type": "execute_result"
    },
    {
     "data": {
      "text/plain": [
       "Text(2022-11-30, 80, 'Min: 180')"
      ]
     },
     "execution_count": 82,
     "metadata": {},
     "output_type": "execute_result"
    },
    {
     "data": {
      "image/png": "[encoded data removed]",
      "text/plain": [
       "<Figure size 864x432 with 1 Axes>"
      ]
     },
     "metadata": {
      "needs_background": "light"
     },
     "output_type": "display_data"
    }
   ],
   "source": [
    "import matplotlib.pyplot as plt\n",
    "import matplotlib.dates as mdates\n",
    "import pandas as pd\n",
    "\n",
    "# Assuming your DataFrame is named 'df' with a 'Timestamp Request' column\n",
    "# Convert 'Timestamp Request' column to datetime if it's not already\n",
    "df['Timestamp Request'] = pd.to_datetime(df['Timestamp Request'])\n",
    "\n",
    "# Extract the date and count the frequency of requests per date\n",
    "request_freq = df['Timestamp Request'].dt.date.value_counts().sort_index()\n",
    "\n",
    "# Create a figure and axes\n",
    "fig, ax = plt.subplots(figsize=(12, 6))\n",
    "\n",
    "# Plot the request frequency as a line plot\n",
    "ax.plot(request_freq.index, request_freq.values, linewidth=2)\n",
    "\n",
    "# Format x-axis as dates\n",
    "ax.xaxis.set_major_formatter(mdates.DateFormatter('%Y-%m-%d'))\n",
    "ax.xaxis.set_major_locator(mdates.DayLocator())\n",
    "\n",
    "# Rotate x-axis labels for better visibility\n",
    "plt.xticks(rotation=45)\n",
    "\n",
    "# Set labels and title\n",
    "ax.set_xlabel('Date')\n",
    "ax.set_ylabel('Request Frequency')\n",
    "ax.set_title('Frequency of Requests Over Time')\n",
    "\n",
    "# Add gridlines\n",
    "ax.grid(True, linestyle='--', alpha=0.5)\n",
    "\n",
    "# Add a background color to the plot\n",
    "ax.set_facecolor('#f2f2f2')\n",
    "\n",
    "# Add a horizontal line at the average request frequency\n",
    "avg_freq = request_freq.mean()\n",
    "ax.axhline(avg_freq, color='r', linestyle='--', linewidth=1)\n",
    "ax.text(request_freq.index[-1], avg_freq, f'Avg: {avg_freq:.2f}', color='r', ha='right')\n",
    "\n",
    "# Add annotations for the highest and lowest frequency points\n",
    "max_freq_date = request_freq.idxmax()\n",
    "max_freq_value = request_freq.max()\n",
    "min_freq_date = request_freq.idxmin()\n",
    "min_freq_value = request_freq.min()\n",
    "ax.annotate(f'Max: {max_freq_value}', xy=(max_freq_date, max_freq_value),\n",
    "            xytext=(max_freq_date, max_freq_value + 100), color='g', ha='center',\n",
    "            arrowprops=dict(facecolor='g', arrowstyle='->'))\n",
    "ax.annotate(f'Min: {min_freq_value}', xy=(min_freq_date, min_freq_value),\n",
    "            xytext=(min_freq_date, min_freq_value - 100), color='r', ha='center',\n",
    "            arrowprops=dict(facecolor='r', arrowstyle='->'))\n",
    "\n",
    "# Display the graph\n",
    "plt.tight_layout()\n",
    "plt.show()\n"
   ]
  },
  {
   "cell_type": "code",
   "execution_count": 85,
   "id": "df255a2d",
   "metadata": {},
   "outputs": [
    {
     "data": {
      "text/plain": [
       "<Figure size 720x576 with 0 Axes>"
      ]
     },
     "execution_count": 85,
     "metadata": {},
     "output_type": "execute_result"
    },
    {
     "data": {
      "text/plain": [
       "([<matplotlib.patches.Wedge at 0x7f8938521b50>,\n",
       "  <matplotlib.patches.Wedge at 0x7f8938513280>,\n",
       "  <matplotlib.patches.Wedge at 0x7f89385139a0>,\n",
       "  <matplotlib.patches.Wedge at 0x7f8938509100>,\n",
       "  <matplotlib.patches.Wedge at 0x7f8938509820>],\n",
       " [Text(-1.0575696455148567, 0.30256643053316506, 'GET'),\n",
       "  Text(1.0421968566896576, -0.35188877774972815, 'POST'),\n",
       "  Text(1.0983681176664508, -0.0598955598843323, 'HEAD'),\n",
       "  Text(1.099968986860708, -0.008260020861215458, 'PATCH'),\n",
       "  Text(1.0999999999977796, -2.210126418324226e-06, 'OPTIONS')],\n",
       " [Text(-0.5768561702808309, 0.16503623483627183, '91.1%'),\n",
       "  Text(0.5684710127398132, -0.1919393333180335, '7.4%'),\n",
       "  Text(0.5991098823635186, -0.032670305391453984, '1.3%'),\n",
       "  Text(0.5999830837422043, -0.00450546592429934, '0.2%'),\n",
       "  Text(0.5999999999987888, -1.2055235009041232e-06, '0.0%')])"
      ]
     },
     "execution_count": 85,
     "metadata": {},
     "output_type": "execute_result"
    },
    {
     "data": {
      "text/plain": [
       "(-1.106645301639909, 1.1003164429352337, -1.10599420743958, 1.1075352322188912)"
      ]
     },
     "execution_count": 85,
     "metadata": {},
     "output_type": "execute_result"
    },
    {
     "data": {
      "text/plain": [
       "Text(0.5, 1.0, 'Top 5 HTTP Methods Distribution')"
      ]
     },
     "execution_count": 85,
     "metadata": {},
     "output_type": "execute_result"
    },
    {
     "data": {
      "image/png": "[encoded data removed]",
      "text/plain": [
       "<Figure size 720x576 with 1 Axes>"
      ]
     },
     "metadata": {},
     "output_type": "display_data"
    }
   ],
   "source": [
    "import seaborn as sns\n",
    "import matplotlib.pyplot as plt\n",
    "import pandas as pd\n",
    "\n",
    "# Assuming your DataFrame is named 'df' with an 'HTTP Method' column\n",
    "# Count the number of calls of each type\n",
    "call_counts = df['HTTP Method'].value_counts()\n",
    "\n",
    "# Select the top 5 HTTP methods\n",
    "top_methods = call_counts.head(5)\n",
    "\n",
    "# Plot a pie chart of the top 5 HTTP methods\n",
    "sns.set_style('whitegrid')\n",
    "plt.figure(figsize=(10, 8))\n",
    "plt.pie(top_methods, labels=top_methods.index, autopct='%1.1f%%')\n",
    "plt.axis('equal')\n",
    "plt.title('Top 5 HTTP Methods Distribution')\n",
    "plt.show()"
   ]
  },
  {
   "cell_type": "code",
   "execution_count": 86,
   "id": "593c08db",
   "metadata": {},
   "outputs": [
    {
     "data": {
      "text/plain": [
       "<AxesSubplot:>"
      ]
     },
     "execution_count": 86,
     "metadata": {},
     "output_type": "execute_result"
    },
    {
     "data": {
      "text/plain": [
       "Text(0.5, 0, 'Day')"
      ]
     },
     "execution_count": 86,
     "metadata": {},
     "output_type": "execute_result"
    },
    {
     "data": {
      "text/plain": [
       "Text(0, 0.5, 'Number of Requests')"
      ]
     },
     "execution_count": 86,
     "metadata": {},
     "output_type": "execute_result"
    },
    {
     "data": {
      "text/plain": [
       "Text(0.5, 1.0, 'Distribution of Requests Across Days')"
      ]
     },
     "execution_count": 86,
     "metadata": {},
     "output_type": "execute_result"
    },
    {
     "data": {
      "image/png": "[encoded data removed]",
      "text/plain": [
       "<Figure size 864x432 with 1 Axes>"
      ]
     },
     "metadata": {},
     "output_type": "display_data"
    }
   ],
   "source": [
    "import matplotlib.pyplot as plt\n",
    "import pandas as pd\n",
    "import seaborn as sns\n",
    "\n",
    "# Assuming your DataFrame is named 'df' with a 'Timestamp Request' column\n",
    "# Convert 'Timestamp Request' column to datetime if it's not already\n",
    "df['Timestamp Request'] = pd.to_datetime(df['Timestamp Request'])\n",
    "\n",
    "# Extract the day from the 'Timestamp Request' column\n",
    "df['Day'] = df['Timestamp Request'].dt.day\n",
    "\n",
    "# Count the number of requests per day\n",
    "requests_per_day = df['Day'].value_counts().sort_index()\n",
    "\n",
    "# Create a figure and axes\n",
    "fig, ax = plt.subplots(figsize=(12, 6))\n",
    "\n",
    "# Plot the requests distribution across days as a bar plot\n",
    "sns.barplot(x=requests_per_day.index, y=requests_per_day.values, color='steelblue', ax=ax)\n",
    "\n",
    "# Set labels and title\n",
    "ax.set_xlabel('Day')\n",
    "ax.set_ylabel('Number of Requests')\n",
    "ax.set_title('Distribution of Requests Across Days')\n",
    "\n",
    "# Customize the tick frequency of x-axis for better readability\n",
    "ax.xaxis.set_major_locator(plt.MaxNLocator(8))\n",
    "\n",
    "# Add gridlines\n",
    "ax.grid(True, axis='y', linestyle='--', alpha=0.5)\n",
    "\n",
    "# Add a background color to the plot\n",
    "ax.set_facecolor('#f2f2f2')\n",
    "\n",
    "# Display the graph\n",
    "plt.tight_layout()\n",
    "plt.show()\n"
   ]
  },
  {
   "cell_type": "code",
   "execution_count": 89,
   "id": "84911c60",
   "metadata": {},
   "outputs": [
    {
     "data": {
      "text/plain": [
       "<AxesSubplot:>"
      ]
     },
     "execution_count": 89,
     "metadata": {},
     "output_type": "execute_result"
    },
    {
     "data": {
      "text/plain": [
       "Text(0.5, 0, 'Day of the Week')"
      ]
     },
     "execution_count": 89,
     "metadata": {},
     "output_type": "execute_result"
    },
    {
     "data": {
      "text/plain": [
       "Text(0, 0.5, 'Number of Requests (thousands)')"
      ]
     },
     "execution_count": 89,
     "metadata": {},
     "output_type": "execute_result"
    },
    {
     "data": {
      "text/plain": [
       "Text(0.5, 1.0, 'Distribution of Requests Across Days of the Week')"
      ]
     },
     "execution_count": 89,
     "metadata": {},
     "output_type": "execute_result"
    },
    {
     "data": {
      "text/plain": [
       "Text(0.0, 2807386.0, '2,807,386')"
      ]
     },
     "execution_count": 89,
     "metadata": {},
     "output_type": "execute_result"
    },
    {
     "data": {
      "text/plain": [
       "Text(1.0, 2735476.0, '2,735,476')"
      ]
     },
     "execution_count": 89,
     "metadata": {},
     "output_type": "execute_result"
    },
    {
     "data": {
      "text/plain": [
       "Text(2.0, 2598521.0, '2,598,521')"
      ]
     },
     "execution_count": 89,
     "metadata": {},
     "output_type": "execute_result"
    },
    {
     "data": {
      "text/plain": [
       "Text(3.0, 2739236.0, '2,739,236')"
      ]
     },
     "execution_count": 89,
     "metadata": {},
     "output_type": "execute_result"
    },
    {
     "data": {
      "text/plain": [
       "Text(4.0, 2988299.0, '2,988,299')"
      ]
     },
     "execution_count": 89,
     "metadata": {},
     "output_type": "execute_result"
    },
    {
     "data": {
      "text/plain": [
       "Text(5.0, 2968767.0, '2,968,767')"
      ]
     },
     "execution_count": 89,
     "metadata": {},
     "output_type": "execute_result"
    },
    {
     "data": {
      "text/plain": [
       "Text(6.0, 2500915.0, '2,500,915')"
      ]
     },
     "execution_count": 89,
     "metadata": {},
     "output_type": "execute_result"
    },
    {
     "data": {
      "image/png": "[encoded data removed]",
      "text/plain": [
       "<Figure size 720x432 with 1 Axes>"
      ]
     },
     "metadata": {},
     "output_type": "display_data"
    }
   ],
   "source": [
    "import matplotlib.pyplot as plt\n",
    "import pandas as pd\n",
    "import calendar\n",
    "import seaborn as sns\n",
    "from matplotlib.ticker import FuncFormatter\n",
    "\n",
    "# Assuming your DataFrame is named 'df' with a 'Timestamp Request' column\n",
    "# Convert 'Timestamp Request' column to datetime if it's not already\n",
    "df['Timestamp Request'] = pd.to_datetime(df['Timestamp Request'])\n",
    "\n",
    "# Extract the day of the week from the 'Timestamp Request' column\n",
    "df['Day of Week'] = df['Timestamp Request'].dt.day_name()\n",
    "\n",
    "# Count the number of requests per day of the week\n",
    "requests_per_day = df['Day of Week'].value_counts().reindex(calendar.day_name)\n",
    "\n",
    "# Create a figure and axes\n",
    "fig, ax = plt.subplots(figsize=(10, 6))\n",
    "\n",
    "# Plot the requests distribution across days of the week as a bar plot\n",
    "sns.barplot(x=requests_per_day.index, y=requests_per_day.values, color='steelblue', ax=ax)\n",
    "\n",
    "# Set labels and title\n",
    "ax.set_xlabel('Day of the Week')\n",
    "ax.set_ylabel('Number of Requests (thousands)')\n",
    "ax.set_title('Distribution of Requests Across Days of the Week')\n",
    "\n",
    "# Customize the tick frequency of y-axis for better readability\n",
    "ax.yaxis.set_major_locator(plt.MaxNLocator(6))\n",
    "\n",
    "# Format y-axis labels to represent values in thousands (k)\n",
    "ax.yaxis.set_major_formatter(FuncFormatter(lambda x, pos: '{:,.0f}k'.format(x * 1e-3)))\n",
    "\n",
    "# Add gridlines\n",
    "ax.grid(True, axis='y', linestyle='--', alpha=0.5)\n",
    "\n",
    "# Add a background color to the plot\n",
    "ax.set_facecolor('#f2f2f2')\n",
    "\n",
    "# Annotate the bars with the exact count values\n",
    "for p in ax.patches:\n",
    "    ax.annotate(f\"{p.get_height():,.0f}\", (p.get_x() + p.get_width() / 2, p.get_height()),\n",
    "                ha='center', va='bottom', fontsize=8)\n",
    "\n",
    "# Display the graph\n",
    "plt.tight_layout()\n",
    "plt.show()"
   ]
  },
  {
   "cell_type": "code",
   "execution_count": 91,
   "id": "a8e101fa",
   "metadata": {},
   "outputs": [
    {
     "data": {
      "text/plain": [
       "<AxesSubplot:>"
      ]
     },
     "execution_count": 91,
     "metadata": {},
     "output_type": "execute_result"
    },
    {
     "data": {
      "text/plain": [
       "Text(0.5, 0, 'Organization')"
      ]
     },
     "execution_count": 91,
     "metadata": {},
     "output_type": "execute_result"
    },
    {
     "data": {
      "text/plain": [
       "Text(0, 0.5, 'Number of Requests (thousands)')"
      ]
     },
     "execution_count": 91,
     "metadata": {},
     "output_type": "execute_result"
    },
    {
     "data": {
      "text/plain": [
       "Text(0.5, 1.0, 'Distribution of Requests Across Top 10 Organizations')"
      ]
     },
     "execution_count": 91,
     "metadata": {},
     "output_type": "execute_result"
    },
    {
     "data": {
      "text/plain": [
       "[Text(0, 0, '9360f6cc-a025-47db-bbf2-b4046f27f8a6'),\n",
       " Text(1, 0, '6b1faf26-cb89-4cc0-a158-d494e1c664cd'),\n",
       " Text(2, 0, 'lara.andrade-org'),\n",
       " Text(3, 0, 'f00716b5-e120-4699-b827-791d6e2a2565'),\n",
       " Text(4, 0, 'bcd5ea8f-0fea-41cd-9bab-16582ca49666'),\n",
       " Text(5, 0, 'pjgs.sousa-org'),\n",
       " Text(6, 0, '09340114-ae3e-452e-9c7a-191f52d34da7'),\n",
       " Text(7, 0, 'benfica-org'),\n",
       " Text(8, 0, '859d79a1-fa30-4a69-9947-78f62ba4b12e'),\n",
       " Text(9, 0, '4f82e3b0-40a4-47b5-bfc3-12c701f31fa2')]"
      ]
     },
     "execution_count": 91,
     "metadata": {},
     "output_type": "execute_result"
    },
    {
     "data": {
      "text/plain": [
       "Text(0.0, 6763635.0, '6,763,635')"
      ]
     },
     "execution_count": 91,
     "metadata": {},
     "output_type": "execute_result"
    },
    {
     "data": {
      "text/plain": [
       "Text(1.0, 3459373.0, '3,459,373')"
      ]
     },
     "execution_count": 91,
     "metadata": {},
     "output_type": "execute_result"
    },
    {
     "data": {
      "text/plain": [
       "Text(2.0, 1716059.0, '1,716,059')"
      ]
     },
     "execution_count": 91,
     "metadata": {},
     "output_type": "execute_result"
    },
    {
     "data": {
      "text/plain": [
       "Text(3.0, 1248021.0, '1,248,021')"
      ]
     },
     "execution_count": 91,
     "metadata": {},
     "output_type": "execute_result"
    },
    {
     "data": {
      "text/plain": [
       "Text(4.0, 1186108.0, '1,186,108')"
      ]
     },
     "execution_count": 91,
     "metadata": {},
     "output_type": "execute_result"
    },
    {
     "data": {
      "text/plain": [
       "Text(5.0, 846667.0, '846,667')"
      ]
     },
     "execution_count": 91,
     "metadata": {},
     "output_type": "execute_result"
    },
    {
     "data": {
      "text/plain": [
       "Text(6.0, 768552.0, '768,552')"
      ]
     },
     "execution_count": 91,
     "metadata": {},
     "output_type": "execute_result"
    },
    {
     "data": {
      "text/plain": [
       "Text(7.0, 391228.0, '391,228')"
      ]
     },
     "execution_count": 91,
     "metadata": {},
     "output_type": "execute_result"
    },
    {
     "data": {
      "text/plain": [
       "Text(8.0, 230664.0, '230,664')"
      ]
     },
     "execution_count": 91,
     "metadata": {},
     "output_type": "execute_result"
    },
    {
     "data": {
      "text/plain": [
       "Text(9.0, 134209.0, '134,209')"
      ]
     },
     "execution_count": 91,
     "metadata": {},
     "output_type": "execute_result"
    },
    {
     "data": {
      "image/png": "[encoded data removed]",
      "text/plain": [
       "<Figure size 864x432 with 1 Axes>"
      ]
     },
     "metadata": {},
     "output_type": "display_data"
    }
   ],
   "source": [
    "import matplotlib.pyplot as plt\n",
    "import pandas as pd\n",
    "import seaborn as sns\n",
    "from matplotlib.ticker import FuncFormatter\n",
    "\n",
    "# Assuming your DataFrame is named 'df' with an 'Organization' column\n",
    "# Count the number of requests per organization\n",
    "requests_per_organization = df['Organization'].value_counts().nlargest(10)\n",
    "\n",
    "# Create a figure and axes\n",
    "fig, ax = plt.subplots(figsize=(12, 6))\n",
    "\n",
    "# Plot the requests distribution across top 10 organizations as a bar plot\n",
    "sns.barplot(x=requests_per_organization.index, y=requests_per_organization.values, color='steelblue', ax=ax)\n",
    "\n",
    "# Set labels and title\n",
    "ax.set_xlabel('Organization')\n",
    "ax.set_ylabel('Number of Requests (thousands)')\n",
    "ax.set_title('Distribution of Requests Across Top 10 Organizations')\n",
    "\n",
    "# Rotate x-axis labels for better readability\n",
    "ax.set_xticklabels(ax.get_xticklabels(), rotation=45, ha='right')\n",
    "\n",
    "# Customize the tick format of y-axis labels to represent values in thousands (k)\n",
    "ax.yaxis.set_major_formatter(FuncFormatter(lambda x, pos: '{:,.0f}k'.format(x * 1e-3)))\n",
    "\n",
    "# Add gridlines\n",
    "ax.grid(True, axis='y', linestyle='--', alpha=0.5)\n",
    "\n",
    "# Add a background color to the plot\n",
    "ax.set_facecolor('#f2f2f2')\n",
    "\n",
    "# Annotate the bars with the exact count values\n",
    "for p in ax.patches:\n",
    "    ax.annotate(f\"{p.get_height():,.0f}\", (p.get_x() + p.get_width() / 2, p.get_height()),\n",
    "                ha='center', va='bottom', fontsize=8)\n",
    "\n",
    "# Display the graph\n",
    "plt.tight_layout()\n",
    "plt.show()"
   ]
  },
  {
   "cell_type": "code",
   "execution_count": 95,
   "id": "36bea883",
   "metadata": {},
   "outputs": [
    {
     "data": {
      "text/plain": [
       "<AxesSubplot:xlabel='Time Stamp'>"
      ]
     },
     "execution_count": 95,
     "metadata": {},
     "output_type": "execute_result"
    },
    {
     "data": {
      "text/plain": [
       "Text(0.5, 0, 'Date')"
      ]
     },
     "execution_count": 95,
     "metadata": {},
     "output_type": "execute_result"
    },
    {
     "data": {
      "text/plain": [
       "Text(0, 0.5, 'Count')"
      ]
     },
     "execution_count": 95,
     "metadata": {},
     "output_type": "execute_result"
    },
    {
     "data": {
      "text/plain": [
       "Text(0.5, 1.0, 'Time Category Distribution Across Days')"
      ]
     },
     "execution_count": 95,
     "metadata": {},
     "output_type": "execute_result"
    },
    {
     "data": {
      "text/plain": [
       "<matplotlib.legend.Legend at 0x7f8771b660d0>"
      ]
     },
     "execution_count": 95,
     "metadata": {},
     "output_type": "execute_result"
    },
    {
     "data": {
      "image/png": "[encoded data removed]",
      "text/plain": [
       "<Figure size 864x432 with 1 Axes>"
      ]
     },
     "metadata": {},
     "output_type": "display_data"
    }
   ],
   "source": [
    "import pandas as pd\n",
    "import matplotlib.pyplot as plt\n",
    "import seaborn as sns\n",
    "\n",
    "# Assuming your DataFrame is named 'df' with a 'Time Category' column and a 'Time Stamp' column\n",
    "# Convert 'Time Stamp' column to datetime if it's not already\n",
    "df['Time Stamp'] = pd.to_datetime(df['Time Stamp'])\n",
    "\n",
    "# Group the data by date and time category and count the occurrences\n",
    "time_category_distribution = df.groupby([df['Time Stamp'].dt.date, 'Time Category']).size().unstack(fill_value=0)\n",
    "\n",
    "# Create a stacked area plot\n",
    "fig, ax = plt.subplots(figsize=(12, 6))\n",
    "\n",
    "# Plot the stacked area chart using seaborn\n",
    "sns.set_palette('viridis')\n",
    "time_category_distribution.plot.area(ax=ax, alpha=0.8)\n",
    "\n",
    "# Set labels and title\n",
    "ax.set_xlabel('Date')\n",
    "ax.set_ylabel('Count')\n",
    "ax.set_title('Time Category Distribution Across Days')\n",
    "\n",
    "# Display the legend\n",
    "ax.legend(title='Time Category')\n",
    "\n",
    "# Display the graph\n",
    "plt.tight_layout()\n",
    "plt.show()"
   ]
  },
  {
   "cell_type": "code",
   "execution_count": 96,
   "id": "19d94b87",
   "metadata": {},
   "outputs": [
    {
     "data": {
      "text/plain": [
       "<AxesSubplot:>"
      ]
     },
     "execution_count": 96,
     "metadata": {},
     "output_type": "execute_result"
    },
    {
     "data": {
      "text/plain": [
       "Text(0.5, 0, 'Time Category')"
      ]
     },
     "execution_count": 96,
     "metadata": {},
     "output_type": "execute_result"
    },
    {
     "data": {
      "text/plain": [
       "Text(0, 0.5, 'Number of Requests (thousands)')"
      ]
     },
     "execution_count": 96,
     "metadata": {},
     "output_type": "execute_result"
    },
    {
     "data": {
      "text/plain": [
       "Text(0.5, 1.0, 'Distribution of Requests Across Time Categories')"
      ]
     },
     "execution_count": 96,
     "metadata": {},
     "output_type": "execute_result"
    },
    {
     "data": {
      "text/plain": [
       "Text(0.0, 6197849.0, '6,197,849')"
      ]
     },
     "execution_count": 96,
     "metadata": {},
     "output_type": "execute_result"
    },
    {
     "data": {
      "text/plain": [
       "Text(1.0, 4804642.0, '4,804,642')"
      ]
     },
     "execution_count": 96,
     "metadata": {},
     "output_type": "execute_result"
    },
    {
     "data": {
      "text/plain": [
       "Text(2.0, 3055109.0, '3,055,109')"
      ]
     },
     "execution_count": 96,
     "metadata": {},
     "output_type": "execute_result"
    },
    {
     "data": {
      "text/plain": [
       "Text(3.0, 2893923.0, '2,893,923')"
      ]
     },
     "execution_count": 96,
     "metadata": {},
     "output_type": "execute_result"
    },
    {
     "data": {
      "text/plain": [
       "Text(4.0, 2387077.0, '2,387,077')"
      ]
     },
     "execution_count": 96,
     "metadata": {},
     "output_type": "execute_result"
    },
    {
     "data": {
      "image/png": "[encoded data removed]",
      "text/plain": [
       "<Figure size 720x432 with 1 Axes>"
      ]
     },
     "metadata": {},
     "output_type": "display_data"
    }
   ],
   "source": [
    "import pandas as pd\n",
    "import matplotlib.pyplot as plt\n",
    "import seaborn as sns\n",
    "from matplotlib.ticker import FuncFormatter\n",
    "\n",
    "# Assuming your DataFrame is named 'df' with a 'Time Category' column\n",
    "# Count the number of requests per time category\n",
    "requests_per_time_category = df['Time Category'].value_counts()\n",
    "\n",
    "# Create a figure and axes\n",
    "fig, ax = plt.subplots(figsize=(10, 6))\n",
    "\n",
    "# Plot the requests distribution across time categories as a bar plot\n",
    "sns.barplot(x=requests_per_time_category.index, y=requests_per_time_category.values, color='steelblue', ax=ax)\n",
    "\n",
    "# Set labels and title\n",
    "ax.set_xlabel('Time Category')\n",
    "ax.set_ylabel('Number of Requests (thousands)')\n",
    "ax.set_title('Distribution of Requests Across Time Categories')\n",
    "\n",
    "# Customize the tick format of y-axis labels to represent values in thousands (k)\n",
    "ax.yaxis.set_major_formatter(FuncFormatter(lambda x, pos: '{:,.0f}k'.format(x * 1e-3)))\n",
    "\n",
    "# Add gridlines\n",
    "ax.grid(True, axis='y', linestyle='--', alpha=0.5)\n",
    "\n",
    "# Add a background color to the plot\n",
    "ax.set_facecolor('#f2f2f2')\n",
    "\n",
    "# Annotate the bars with the exact count values\n",
    "for p in ax.patches:\n",
    "    ax.annotate(f\"{p.get_height():,.0f}\", (p.get_x() + p.get_width() / 2, p.get_height()),\n",
    "                ha='center', va='bottom', fontsize=8)\n",
    "\n",
    "# Display the graph\n",
    "plt.tight_layout()\n",
    "plt.show()\n"
   ]
  },
  {
   "cell_type": "code",
   "execution_count": 97,
   "id": "7de6f0f2",
   "metadata": {},
   "outputs": [
    {
     "data": {
      "text/plain": [
       "<AxesSubplot:xlabel='Time Stamp'>"
      ]
     },
     "execution_count": 97,
     "metadata": {},
     "output_type": "execute_result"
    },
    {
     "data": {
      "text/plain": [
       "Text(0.5, 0, 'Day of the Week')"
      ]
     },
     "execution_count": 97,
     "metadata": {},
     "output_type": "execute_result"
    },
    {
     "data": {
      "text/plain": [
       "Text(0, 0.5, 'Count')"
      ]
     },
     "execution_count": 97,
     "metadata": {},
     "output_type": "execute_result"
    },
    {
     "data": {
      "text/plain": [
       "Text(0.5, 1.0, 'Distribution of Time Categories Across Days')"
      ]
     },
     "execution_count": 97,
     "metadata": {},
     "output_type": "execute_result"
    },
    {
     "data": {
      "text/plain": [
       "<matplotlib.legend.Legend at 0x7f883f267c40>"
      ]
     },
     "execution_count": 97,
     "metadata": {},
     "output_type": "execute_result"
    },
    {
     "data": {
      "image/png": "[encoded data removed]",
      "text/plain": [
       "<Figure size 864x432 with 1 Axes>"
      ]
     },
     "metadata": {},
     "output_type": "display_data"
    }
   ],
   "source": [
    "import pandas as pd\n",
    "import matplotlib.pyplot as plt\n",
    "import seaborn as sns\n",
    "\n",
    "# Assuming your DataFrame is named 'df' with a 'Time Category' column and a 'Time Stamp' column\n",
    "# Convert 'Time Stamp' column to datetime if it's not already\n",
    "df['Time Stamp'] = pd.to_datetime(df['Time Stamp'])\n",
    "\n",
    "# Group the data by time category and count the occurrences per day\n",
    "time_category_distribution = df.groupby([df['Time Stamp'].dt.day_name(), 'Time Category']).size().unstack(fill_value=0)\n",
    "\n",
    "# Reorder the days of the week for proper sorting\n",
    "day_order = ['Monday', 'Tuesday', 'Wednesday', 'Thursday', 'Friday', 'Saturday', 'Sunday']\n",
    "time_category_distribution = time_category_distribution.reindex(day_order)\n",
    "\n",
    "# Create a figure and axes\n",
    "fig, ax = plt.subplots(figsize=(12, 6))\n",
    "\n",
    "# Plot the distribution of time categories as a stacked bar chart\n",
    "time_category_distribution.plot.bar(stacked=True, ax=ax)\n",
    "\n",
    "# Set labels and title\n",
    "ax.set_xlabel('Day of the Week')\n",
    "ax.set_ylabel('Count')\n",
    "ax.set_title('Distribution of Time Categories Across Days')\n",
    "\n",
    "# Display the legend\n",
    "ax.legend(title='Time Category')\n",
    "\n",
    "# Display the graph\n",
    "plt.tight_layout()\n",
    "plt.show()\n",
    "\n"
   ]
  },
  {
   "cell_type": "code",
   "execution_count": 98,
   "id": "923f94a3",
   "metadata": {},
   "outputs": [
    {
     "data": {
      "text/plain": [
       "<AxesSubplot:xlabel='Time Stamp'>"
      ]
     },
     "execution_count": 98,
     "metadata": {},
     "output_type": "execute_result"
    },
    {
     "data": {
      "text/plain": [
       "Text(0.5, 0, 'Day of the Week')"
      ]
     },
     "execution_count": 98,
     "metadata": {},
     "output_type": "execute_result"
    },
    {
     "data": {
      "text/plain": [
       "Text(0, 0.5, 'Count (thousands)')"
      ]
     },
     "execution_count": 98,
     "metadata": {},
     "output_type": "execute_result"
    },
    {
     "data": {
      "text/plain": [
       "Text(0.5, 1.0, 'Distribution of Time Categories Across Days')"
      ]
     },
     "execution_count": 98,
     "metadata": {},
     "output_type": "execute_result"
    },
    {
     "data": {
      "text/plain": [
       "[Text(0, 0.0, '0k'),\n",
       " Text(0, 500000.0, '500k'),\n",
       " Text(0, 1000000.0, '1000k'),\n",
       " Text(0, 1500000.0, '1500k'),\n",
       " Text(0, 2000000.0, '2000k'),\n",
       " Text(0, 2500000.0, '2500k'),\n",
       " Text(0, 3000000.0, '3000k'),\n",
       " Text(0, 3500000.0, '3500k')]"
      ]
     },
     "execution_count": 98,
     "metadata": {},
     "output_type": "execute_result"
    },
    {
     "data": {
      "text/plain": [
       "<matplotlib.legend.Legend at 0x7f8609609cd0>"
      ]
     },
     "execution_count": 98,
     "metadata": {},
     "output_type": "execute_result"
    },
    {
     "data": {
      "image/png": "[encoded data removed]",
      "text/plain": [
       "<Figure size 864x432 with 1 Axes>"
      ]
     },
     "metadata": {},
     "output_type": "display_data"
    }
   ],
   "source": [
    "import pandas as pd\n",
    "import matplotlib.pyplot as plt\n",
    "import seaborn as sns\n",
    "\n",
    "# Assuming your DataFrame is named 'df' with a 'Time Category' column and a 'Time Stamp' column\n",
    "# Convert 'Time Stamp' column to datetime if it's not already\n",
    "df['Time Stamp'] = pd.to_datetime(df['Time Stamp'])\n",
    "\n",
    "# Group the data by time category and count the occurrences\n",
    "time_category_counts = df['Time Category'].value_counts()\n",
    "\n",
    "# Order the time categories in descending order based on the count of requests\n",
    "time_category_order = time_category_counts.index\n",
    "\n",
    "# Group the data by time category and day of the week, and count the occurrences\n",
    "time_category_distribution = df.groupby([df['Time Stamp'].dt.day_name(), 'Time Category']).size().unstack(fill_value=0)\n",
    "\n",
    "# Reorder the days of the week for proper sorting\n",
    "day_order = ['Monday', 'Tuesday', 'Wednesday', 'Thursday', 'Friday', 'Saturday', 'Sunday']\n",
    "time_category_distribution = time_category_distribution.reindex(day_order)\n",
    "\n",
    "# Create a figure and axes\n",
    "fig, ax = plt.subplots(figsize=(12, 6))\n",
    "\n",
    "# Plot the distribution of time categories as a stacked bar chart\n",
    "time_category_distribution[time_category_order].plot.bar(stacked=True, ax=ax)\n",
    "\n",
    "# Set labels and title\n",
    "ax.set_xlabel('Day of the Week')\n",
    "ax.set_ylabel('Count (thousands)')\n",
    "ax.set_title('Distribution of Time Categories Across Days')\n",
    "\n",
    "# Convert y-axis labels from 1e6 to thousands (k)\n",
    "ax.set_yticklabels(['{:.0f}k'.format(x * 1e-3) for x in ax.get_yticks()])\n",
    "\n",
    "# Display the legend\n",
    "ax.legend(title='Time Category')\n",
    "\n",
    "# Display the graph\n",
    "plt.tight_layout()\n",
    "plt.show()\n"
   ]
  },
  {
   "cell_type": "code",
   "execution_count": 100,
   "id": "c99a5671",
   "metadata": {},
   "outputs": [
    {
     "data": {
      "text/plain": [
       "<AxesSubplot:xlabel='Time Stamp'>"
      ]
     },
     "execution_count": 100,
     "metadata": {},
     "output_type": "execute_result"
    },
    {
     "data": {
      "text/plain": [
       "Text(0.5, 0, 'Week Number')"
      ]
     },
     "execution_count": 100,
     "metadata": {},
     "output_type": "execute_result"
    },
    {
     "data": {
      "text/plain": [
       "Text(0, 0.5, 'Number of Requests (thousands)')"
      ]
     },
     "execution_count": 100,
     "metadata": {},
     "output_type": "execute_result"
    },
    {
     "data": {
      "text/plain": [
       "Text(0.5, 1.0, 'Distribution of Requests Across Weeks')"
      ]
     },
     "execution_count": 100,
     "metadata": {},
     "output_type": "execute_result"
    },
    {
     "data": {
      "text/plain": [
       "[Text(0, 0.0, '0k'),\n",
       " Text(0, 1000000.0, '1000k'),\n",
       " Text(0, 2000000.0, '2000k'),\n",
       " Text(0, 3000000.0, '3000k'),\n",
       " Text(0, 4000000.0, '4000k'),\n",
       " Text(0, 5000000.0, '5000k')]"
      ]
     },
     "execution_count": 100,
     "metadata": {},
     "output_type": "execute_result"
    },
    {
     "data": {
      "image/png": "[encoded data removed]",
      "text/plain": [
       "<Figure size 864x432 with 1 Axes>"
      ]
     },
     "metadata": {},
     "output_type": "display_data"
    }
   ],
   "source": [
    "import pandas as pd\n",
    "import matplotlib.pyplot as plt\n",
    "import seaborn as sns\n",
    "\n",
    "# Assuming your DataFrame is named 'df' with a 'Time Stamp' column\n",
    "# Convert 'Time Stamp' column to datetime if it's not already\n",
    "df['Time Stamp'] = pd.to_datetime(df['Time Stamp'])\n",
    "\n",
    "# Group the data by week number and count the occurrences\n",
    "requests_per_week = df.groupby(df['Time Stamp'].dt.week).size()\n",
    "\n",
    "# Create a figure and axes\n",
    "fig, ax = plt.subplots(figsize=(12, 6))\n",
    "\n",
    "# Plot the distribution of requests across weeks\n",
    "requests_per_week.plot(kind='bar', ax=ax)\n",
    "\n",
    "# Set labels and title\n",
    "ax.set_xlabel('Week Number')\n",
    "ax.set_ylabel('Number of Requests (thousands)')\n",
    "ax.set_title('Distribution of Requests Across Weeks')\n",
    "\n",
    "# Convert y-axis labels from 1e6 to thousands (k)\n",
    "ax.set_yticklabels(['{:.0f}k'.format(x * 1e-3) for x in ax.get_yticks()])\n",
    "\n",
    "# Display the graph\n",
    "plt.tight_layout()\n",
    "plt.show()\n"
   ]
  },
  {
   "cell_type": "code",
   "execution_count": 101,
   "id": "e4ca5687",
   "metadata": {},
   "outputs": [
    {
     "data": {
      "text/plain": [
       "<AxesSubplot:>"
      ]
     },
     "execution_count": 101,
     "metadata": {},
     "output_type": "execute_result"
    },
    {
     "data": {
      "text/plain": [
       "Text(0.5, 0, 'Hour of the Day')"
      ]
     },
     "execution_count": 101,
     "metadata": {},
     "output_type": "execute_result"
    },
    {
     "data": {
      "text/plain": [
       "Text(0, 0.5, 'Number of Requests (thousands)')"
      ]
     },
     "execution_count": 101,
     "metadata": {},
     "output_type": "execute_result"
    },
    {
     "data": {
      "text/plain": [
       "Text(0.5, 1.0, 'Distribution of Requests Across Hours of the Day')"
      ]
     },
     "execution_count": 101,
     "metadata": {},
     "output_type": "execute_result"
    },
    {
     "data": {
      "text/plain": [
       "[Text(0, 0.0, '0k'),\n",
       " Text(0, 200000.0, '200k'),\n",
       " Text(0, 400000.0, '400k'),\n",
       " Text(0, 600000.0, '600k'),\n",
       " Text(0, 800000.0, '800k'),\n",
       " Text(0, 1000000.0, '1000k'),\n",
       " Text(0, 1200000.0, '1200k')]"
      ]
     },
     "execution_count": 101,
     "metadata": {},
     "output_type": "execute_result"
    },
    {
     "data": {
      "image/png": "[encoded data removed]",
      "text/plain": [
       "<Figure size 864x432 with 1 Axes>"
      ]
     },
     "metadata": {},
     "output_type": "display_data"
    }
   ],
   "source": [
    "import pandas as pd\n",
    "import matplotlib.pyplot as plt\n",
    "import seaborn as sns\n",
    "\n",
    "# Assuming your DataFrame is named 'df' with an 'HourOfDay' column\n",
    "# Convert 'HourOfDay' column to numeric if it's not already\n",
    "df['HourOfDay'] = pd.to_numeric(df['HourOfDay'])\n",
    "\n",
    "# Group the data by hour of the day and count the occurrences\n",
    "requests_per_hour = df['HourOfDay'].value_counts().sort_index()\n",
    "\n",
    "# Create a figure and axes\n",
    "fig, ax = plt.subplots(figsize=(12, 6))\n",
    "\n",
    "# Plot the distribution of requests across hours of the day\n",
    "requests_per_hour.plot(kind='bar', ax=ax)\n",
    "\n",
    "# Set labels and title\n",
    "ax.set_xlabel('Hour of the Day')\n",
    "ax.set_ylabel('Number of Requests (thousands)')\n",
    "ax.set_title('Distribution of Requests Across Hours of the Day')\n",
    "\n",
    "# Convert y-axis labels from 1e6 to thousands (k)\n",
    "ax.set_yticklabels(['{:.0f}k'.format(x * 1e-3) for x in ax.get_yticks()])\n",
    "\n",
    "# Display the graph\n",
    "plt.tight_layout()\n",
    "plt.show()\n"
   ]
  },
  {
   "cell_type": "code",
   "execution_count": 102,
   "id": "7970bfcd",
   "metadata": {},
   "outputs": [
    {
     "data": {
      "text/plain": [
       "<AxesSubplot:xlabel='Response Time'>"
      ]
     },
     "execution_count": 102,
     "metadata": {},
     "output_type": "execute_result"
    },
    {
     "data": {
      "text/plain": [
       "Text(0.5, 0, 'Response Time (seconds)')"
      ]
     },
     "execution_count": 102,
     "metadata": {},
     "output_type": "execute_result"
    },
    {
     "data": {
      "text/plain": [
       "Text(0.5, 1.0, 'Distribution of Response Time')"
      ]
     },
     "execution_count": 102,
     "metadata": {},
     "output_type": "execute_result"
    },
    {
     "data": {
      "image/png": "[encoded data removed]",
      "text/plain": [
       "<Figure size 720x432 with 1 Axes>"
      ]
     },
     "metadata": {},
     "output_type": "display_data"
    }
   ],
   "source": [
    "import pandas as pd\n",
    "import matplotlib.pyplot as plt\n",
    "import seaborn as sns\n",
    "\n",
    "# Assuming your DataFrame is named 'df' with a 'Timestamp Response' column\n",
    "# Convert 'Timestamp Response' column to datetime if it's not already\n",
    "df['Timestamp Response'] = pd.to_datetime(df['Timestamp Response'])\n",
    "\n",
    "# Calculate the response time in seconds\n",
    "df['Response Time'] = (df['Timestamp Response'] - df['Timestamp Request']).dt.total_seconds()\n",
    "\n",
    "# Create a figure and axes\n",
    "fig, ax = plt.subplots(figsize=(10, 6))\n",
    "\n",
    "# Create the box plot of response time\n",
    "sns.boxplot(x=df['Response Time'], ax=ax)\n",
    "\n",
    "# Set labels and title\n",
    "ax.set_xlabel('Response Time (seconds)')\n",
    "ax.set_title('Distribution of Response Time')\n",
    "\n",
    "# Display the graph\n",
    "plt.tight_layout()\n",
    "plt.show()\n"
   ]
  }
 ],
 "metadata": {
  "kernelspec": {
   "display_name": "Python 3 (ipykernel)",
   "language": "python",
   "name": "python3"
  },
  "language_info": {
   "codemirror_mode": {
    "name": "ipython",
    "version": 3
   },
   "file_extension": ".py",
   "mimetype": "text/x-python",
   "name": "python",
   "nbconvert_exporter": "python",
   "pygments_lexer": "ipython3",
   "version": "3.9.12"
  }
 },
 "nbformat": 4,
 "nbformat_minor": 5
}
